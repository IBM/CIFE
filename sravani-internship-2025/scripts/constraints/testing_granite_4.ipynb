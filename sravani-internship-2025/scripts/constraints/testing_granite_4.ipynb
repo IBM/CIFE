{
 "cells": [
  {
   "cell_type": "markdown",
   "id": "41981957",
   "metadata": {},
   "source": [
    "## Loading Data"
   ]
  },
  {
   "cell_type": "code",
   "execution_count": 1,
   "id": "553f84ab",
   "metadata": {},
   "outputs": [
    {
     "name": "stdout",
     "output_type": "stream",
     "text": [
      "<class 'pandas.core.frame.DataFrame'>\n",
      "RangeIndex: 60 entries, 0 to 59\n",
      "Data columns (total 16 columns):\n",
      " #   Column                     Non-Null Count  Dtype \n",
      "---  ------                     --------------  ----- \n",
      " 0   dataset                    60 non-null     object\n",
      " 1   instruction                60 non-null     object\n",
      " 2   code                       60 non-null     object\n",
      " 3   test                       20 non-null     object\n",
      " 4   Characteristics            60 non-null     object\n",
      " 5   constraints                60 non-null     object\n",
      " 6   Characteristics_List       60 non-null     object\n",
      " 7   Mapped_Characteristics     60 non-null     object\n",
      " 8   Mapped_Constraints         60 non-null     object\n",
      " 9   Mapped_Characteristics_v2  60 non-null     object\n",
      " 10  Mapped_Constraints_v2      60 non-null     object\n",
      " 11  categories_v1              60 non-null     object\n",
      " 12  categories_v2              60 non-null     object\n",
      " 13  Manual_categories          60 non-null     object\n",
      " 14  LLM_categories             60 non-null     object\n",
      " 15  Final_categories           60 non-null     object\n",
      "dtypes: object(16)\n",
      "memory usage: 7.6+ KB\n"
     ]
    }
   ],
   "source": [
    "import pandas as pd\n",
    "df = pd.read_csv('constraint_category_initial_data.csv')\n",
    "df.info()"
   ]
  },
  {
   "cell_type": "markdown",
   "id": "576b044d",
   "metadata": {},
   "source": [
    "## Loading the model "
   ]
  },
  {
   "cell_type": "code",
   "execution_count": 2,
   "id": "05012a51",
   "metadata": {},
   "outputs": [],
   "source": [
    "# base_url=\"https://inference-3scale-apicast-production.apps.rits.fmaas.res.ibm.com/pixtral-large-instruct-2411/v1\""
   ]
  },
  {
   "cell_type": "code",
   "execution_count": 3,
   "id": "c81dc3bd",
   "metadata": {},
   "outputs": [],
   "source": [
    "from openai import OpenAI\n",
    "\n",
    "class RITSClient:\n",
    "\n",
    "    def __init__(self, api_key, base_url=\"https://inference-3scale-apicast-production.apps.rits.fmaas.res.ibm.com/granite-4-0-medium-franconia/v1\"):\n",
    "        llm = OpenAI(\n",
    "        api_key=api_key,  \n",
    "        base_url=base_url,\n",
    "        default_headers={'RITS_API_KEY': api_key}\n",
    "        )\n",
    "        self.llm = llm\n",
    "\n",
    "    def get_model_response(self,prompt,system_prompt=\"You are a helpful assistant.\", model_id=\"ibm-granite/granite-4.0-medium-prerelease-franconia.r250523a\", max_new_tokens=400, temperature=0):\n",
    "        messages = [\n",
    "            {\"role\": \"system\", \"content\": system_prompt},\n",
    "            {\"role\": \"user\", \"content\": prompt}\n",
    "        ]\n",
    "\n",
    "        response = self.llm.chat.completions.create(\n",
    "            model=model_id,\n",
    "            messages=messages,\n",
    "            max_tokens=max_new_tokens,\n",
    "            temperature=temperature,\n",
    "\n",
    "        )\n",
    "\n",
    "        return response.choices[0].message.content.strip()"
   ]
  },
  {
   "cell_type": "code",
   "execution_count": 4,
   "id": "5c907046",
   "metadata": {},
   "outputs": [],
   "source": [
    "import os\n",
    "import dotenv\n",
    "dotenv.load_dotenv() \n",
    "api_key = os.environ.get('RITS_API_KEY')"
   ]
  },
  {
   "cell_type": "code",
   "execution_count": 5,
   "id": "9171fa72",
   "metadata": {},
   "outputs": [
    {
     "name": "stdout",
     "output_type": "stream",
     "text": [
      "The capital of France is Paris.\n"
     ]
    }
   ],
   "source": [
    "client = RITSClient(api_key,base_url=\"https://inference-3scale-apicast-production.apps.rits.fmaas.res.ibm.com/granite-3-3-8b-instruct/v1\")\n",
    "# Example usage\n",
    "prompt = \"What is the capital of France?\"\n",
    "response = client.get_model_response(prompt, model_id=\"ibm-granite/granite-3.3-8b-instruct\")\n",
    "print(response)  # Should print the model's response to the question"
   ]
  },
  {
   "cell_type": "code",
   "execution_count": 6,
   "id": "b55f7449",
   "metadata": {},
   "outputs": [
    {
     "name": "stdout",
     "output_type": "stream",
     "text": [
      "The capital of France is Paris.\n"
     ]
    }
   ],
   "source": [
    "client2 = RITSClient(api_key)\n",
    "response2 = client2.get_model_response(prompt)\n",
    "print(response2)  "
   ]
  },
  {
   "cell_type": "markdown",
   "id": "8d9323fd",
   "metadata": {},
   "source": [
    "# Utility Functions"
   ]
  },
  {
   "cell_type": "code",
   "execution_count": 7,
   "id": "9fa8e745",
   "metadata": {},
   "outputs": [],
   "source": [
    "import json\n",
    "\n",
    "def extract_json(string,col_name=\"Constraints\"):\n",
    "    try:\n",
    "        json_string = string.strip().replace('```json\\n', '', 1).replace('\\n```', '', 1)\n",
    "        constraint_json = json.loads(json_string)\n",
    "        return constraint_json.get(col_name, [])\n",
    "    except json.JSONDecodeError as e:\n",
    "        print(f\"Error decoding JSON: {e} in string: {string}\")\n",
    "        return []\n",
    "    except AttributeError as e:\n",
    "        print(f\"Attribute error: {e} in string: {string}\")\n",
    "        return []"
   ]
  },
  {
   "cell_type": "markdown",
   "id": "6c916bb6",
   "metadata": {},
   "source": [
    "# Step 1- Define Constraint Catgeories"
   ]
  },
  {
   "cell_type": "code",
   "execution_count": 8,
   "id": "ee15de0d",
   "metadata": {},
   "outputs": [],
   "source": [
    "categories = [\n",
    "    \"Code Structure and Modularity\",\n",
    "    \"Input and Output Handling\",\n",
    "    \"Error Handling and Robustness\",\n",
    "    \"Data Processing and Transformation\",\n",
    "    \"Performance and Optimization\",\n",
    "    \"Library and API Usage\",\n",
    "    \"Testing and Debugging\",\n",
    "    \"Documentation and Readability\",\n",
    "    \"Security and Privacy\",\n",
    "    \"Reproducibility and Consistency\",\n",
    "    \"Mathematical Computation\",\n",
    "    \"File and Data Management\",\n",
    "    \"UI and Interaction\",\n",
    "]\n",
    "categories_str = \"\\n\".join(categories)"
   ]
  },
  {
   "cell_type": "markdown",
   "id": "a7e036f2",
   "metadata": {},
   "source": [
    "# Step 2 : Relevant Category Selection"
   ]
  },
  {
   "cell_type": "code",
   "execution_count": 9,
   "id": "31a4c636",
   "metadata": {},
   "outputs": [
    {
     "name": "stdout",
     "output_type": "stream",
     "text": [
      "\n",
      "    \"task\": \"Classify the natural language `instruction` and its corresponding `code` into all relevant high-level constraint categories from the provided comprehensive list.\",\n",
      "\n",
      "    \"context\": \"You are given an `instruction` that describes a coding task, `code` for context, and a list of `all_constraint_categories`.\",\n",
      "\n",
      "    \"goal\": \"Select **all** relevant categories from the `all_constraint_categories` list that apply directly, indirectly, or even potentially to the given `instruction` and `code`.\n",
      "    For each category, think carefully about both explicit requirements and implicit expectations that might arise in real-world programming tasks.\n",
      "    If there is **any plausible reason**—whether due to the instruction's wording, the code's structure, edge cases, potential extensions, or real-world usage scenarios—that the category might impose constraints, then **include it**.\n",
      "\n",
      "    Be exhaustive on the side of inclusion. The goal is to **maximize coverage** of all semantically or practically relevant constraint categories, not to limit selection to a minimal subset.\n",
      "\n",
      "    Your output must be a JSON object containing a single field: 'relevant_categories'.\n",
      "    \",\n",
      "\n",
      "    \"JSON Response Format\": {\n",
      "        \"relevant_categories\": [\n",
      "            \"List of selected relevant categories from 'all_constraint_categories'. Each string should be the exact name of the matching supercategory.\"\n",
      "        ]\n",
      "    },\n",
      "\n",
      "    \"Inputs Required\": {\n",
      "        \"instruction\": Perform a chi-square test of independence of variables in a contingency table. This function takes a DataFrame containing categorical data and two column names, then constructs a contingency table from the two categorical columns and performs a chi-square test of independence. It returns the p-value of the test, which indicates the probability of observing the data if the null hypothesis (independence of the variables) is true. >>> np.random.seed(42) >>> data = pd.DataFrame({ ...     'a': np.random.choice(['A', 'B'], size=100), ...     'b': np.random.choice(['X', 'Y'], size=100) ... }) >>> task_func(data, 'a', 'b') 1.0\n",
      "The function should raise the exception for: ValueError: If 'data' is empty, if 'col1' or 'col2' are not in 'data', if one or both of the columns do not have multiple categories, or if some categories have less than 5 observations (violating the chi-square test assumptions). TypeError: If one or both of the columns contain non-categorical data.\n",
      "The function should output with:\n",
      "    float: The p-value of the chi-square test of independence.\n",
      "You should write self-contained code starting with:\n",
      "```\n",
      "import pandas as pd\n",
      "import numpy as np\n",
      "from scipy.stats import chi2_contingency\n",
      "def task_func(data, col1, col2):\n",
      "```\n",
      "        \"code\": # Check if DataFrame is empty\n",
      "    if data.empty:\n",
      "        raise ValueError(\"The input DataFrame is empty.\")\n",
      "\n",
      "    # Check if specified columns exist\n",
      "    if col1 not in data or col2 not in data:\n",
      "        raise ValueError(f\"One or both of the columns '{col1}' and '{col2}' do not exist in the DataFrame.\")\n",
      "\n",
      "    # Check for non-categorical data (numerical values)\n",
      "    if np.issubdtype(data[col1].dtype, np.number) or np.issubdtype(data[col2].dtype, np.number):\n",
      "        raise TypeError(\"One or both of the columns contain non-categorical data. The chi-square test requires categorical data.\")\n",
      "\n",
      "    # Check for single category (no variability)\n",
      "    if len(data[col1].unique()) < 2 or len(data[col2].unique()) < 2:\n",
      "        raise ValueError(\"One or both of the columns do not have multiple categories. The chi-square test requires variability in data.\")\n",
      "\n",
      "    # Check for small counts in numerous categories\n",
      "    contingency_table = pd.crosstab(data[col1], data[col2])\n",
      "    if (contingency_table < 5).any().any():\n",
      "        raise ValueError(\"Some categories have less than 5 observations. This violates the assumptions of the chi-square test.\")\n",
      "\n",
      "    # Perform the chi-square test\n",
      "    chi2, p, dof, expected = chi2_contingency(contingency_table)\n",
      "    return p\n",
      "        \"all_constraint_categories\": Code Structure and Modularity\n",
      "Input and Output Handling\n",
      "Error Handling and Robustness\n",
      "Data Processing and Transformation\n",
      "Performance and Optimization\n",
      "Library and API Usage\n",
      "Testing and Debugging\n",
      "Documentation and Readability\n",
      "Security and Privacy\n",
      "Reproducibility and Consistency\n",
      "Mathematical Computation\n",
      "File and Data Management\n",
      "UI and Interaction\n",
      "    }\n",
      "    \n"
     ]
    }
   ],
   "source": [
    "SYSTEM_PROMPT_STAGE1 = \"\"\"\n",
    "You are a categorization expert for programming tasks. Your goal is to accurately map a programming instruction and its associated code to all applicable high-level constraint categories from a predefined list.\n",
    "\"\"\"\n",
    "\n",
    "def get_prompt_stage1_select_categories(instruction: str, code: str, all_constraint_categories: list[str]) -> str:\n",
    "    categories_str = \"\\n\".join(all_constraint_categories)\n",
    "    prompt = f\"\"\"\n",
    "    \"task\": \"Classify the natural language `instruction` and its corresponding `code` into all relevant high-level constraint categories from the provided comprehensive list.\",\n",
    "\n",
    "    \"context\": \"You are given an `instruction` that describes a coding task, `code` for context, and a list of `all_constraint_categories`.\",\n",
    "\n",
    "    \"goal\": \"Select **all** relevant categories from the `all_constraint_categories` list that apply directly, indirectly, or even potentially to the given `instruction` and `code`.\n",
    "    For each category, think carefully about both explicit requirements and implicit expectations that might arise in real-world programming tasks.\n",
    "    If there is **any plausible reason**—whether due to the instruction's wording, the code's structure, edge cases, potential extensions, or real-world usage scenarios—that the category might impose constraints, then **include it**.\n",
    "\n",
    "    Be exhaustive on the side of inclusion. The goal is to **maximize coverage** of all semantically or practically relevant constraint categories, not to limit selection to a minimal subset.\n",
    "\n",
    "    Your output must be a JSON object containing a single field: 'relevant_categories'.\n",
    "    \",\n",
    "\n",
    "    \"JSON Response Format\": {{\n",
    "        \"relevant_categories\": [\n",
    "            \"List of selected relevant categories from 'all_constraint_categories'. Each string should be the exact name of the matching supercategory.\"\n",
    "        ]\n",
    "    }},\n",
    "\n",
    "    \"Inputs Required\": {{\n",
    "        \"instruction\": {instruction}\n",
    "        \"code\": {code}\n",
    "        \"all_constraint_categories\": {categories_str}\n",
    "    }}\n",
    "    \"\"\"\n",
    "    return prompt\n",
    "prompt = get_prompt_stage1_select_categories(df.iloc[26][\"instruction\"],df.iloc[26][\"code\"],categories)\n",
    "print(prompt)"
   ]
  },
  {
   "cell_type": "code",
   "execution_count": 10,
   "id": "51582fdd",
   "metadata": {},
   "outputs": [
    {
     "name": "stdout",
     "output_type": "stream",
     "text": [
      "Perform a chi-square test of independence of variables in a contingency table. This function takes a DataFrame containing categorical data and two column names, then constructs a contingency table from the two categorical columns and performs a chi-square test of independence. It returns the p-value of the test, which indicates the probability of observing the data if the null hypothesis (independence of the variables) is true. >>> np.random.seed(42) >>> data = pd.DataFrame({ ...     'a': np.random.choice(['A', 'B'], size=100), ...     'b': np.random.choice(['X', 'Y'], size=100) ... }) >>> task_func(data, 'a', 'b') 1.0\n",
      "The function should raise the exception for: ValueError: If 'data' is empty, if 'col1' or 'col2' are not in 'data', if one or both of the columns do not have multiple categories, or if some categories have less than 5 observations (violating the chi-square test assumptions). TypeError: If one or both of the columns contain non-categorical data.\n",
      "The function should output with:\n",
      "    float: The p-value of the chi-square test of independence.\n",
      "You should write self-contained code starting with:\n",
      "```\n",
      "import pandas as pd\n",
      "import numpy as np\n",
      "from scipy.stats import chi2_contingency\n",
      "def task_func(data, col1, col2):\n",
      "```\n"
     ]
    }
   ],
   "source": [
    "print(df.iloc[26][\"instruction\"])"
   ]
  },
  {
   "cell_type": "code",
   "execution_count": 11,
   "id": "2e41167d",
   "metadata": {},
   "outputs": [
    {
     "name": "stdout",
     "output_type": "stream",
     "text": [
      "```json\n",
      "{\n",
      "    \"relevant_categories\": [\n",
      "        \"Input and Output Handling\",\n",
      "        \"Error Handling and Robustness\",\n",
      "        \"Data Processing and Transformation\",\n",
      "        \"Library and API Usage\",\n",
      "        \"Mathematical Computation\",\n",
      "        \"Code Structure and Modularity\"\n",
      "    ]\n",
      "}\n",
      "```\n",
      "\n",
      "**Justification:**\n",
      "\n",
      "- **Input and Output Handling**: The function takes a DataFrame and two column names as input and returns a float (p-value) as output.\n",
      "- **Error Handling and Robustness**: The function includes checks for empty DataFrame, non-existent columns, non-categorical data, single category, and small counts in categories, raising appropriate exceptions.\n",
      "- **Data Processing and Transformation**: The function constructs a contingency table from the input DataFrame and columns.\n",
      "- **Library and API Usage**: The function uses pandas for DataFrame manipulation and scipy.stats for the chi-square test.\n",
      "- **Mathematical Computation**: The function performs a chi-square test of independence.\n",
      "- **Code Structure and Modularity**: The function is self-contained and modular, performing a specific task clearly separated from other potential tasks.\n",
      "\n",
      "The other categories (Performance and Optimization, Testing and Debugging, Documentation and Readability, Security and Privacy, Reproducibility and Consistency, File and Data Management, UI and Interaction) are not directly relevant to this specific function as it's a data analysis utility without UI, file I/O, or explicit security considerations.\n",
      "Error decoding JSON: Extra data: line 12 column 1 (char 273) in string: ```json\n",
      "{\n",
      "    \"relevant_categories\": [\n",
      "        \"Input and Output Handling\",\n",
      "        \"Error Handling and Robustness\",\n",
      "        \"Data Processing and Transformation\",\n",
      "        \"Library and API Usage\",\n",
      "        \"Mathematical Computation\",\n",
      "        \"Code Structure and Modularity\"\n",
      "    ]\n",
      "}\n",
      "```\n",
      "\n",
      "**Justification:**\n",
      "\n",
      "- **Input and Output Handling**: The function takes a DataFrame and two column names as input and returns a float (p-value) as output.\n",
      "- **Error Handling and Robustness**: The function includes checks for empty DataFrame, non-existent columns, non-categorical data, single category, and small counts in categories, raising appropriate exceptions.\n",
      "- **Data Processing and Transformation**: The function constructs a contingency table from the input DataFrame and columns.\n",
      "- **Library and API Usage**: The function uses pandas for DataFrame manipulation and scipy.stats for the chi-square test.\n",
      "- **Mathematical Computation**: The function performs a chi-square test of independence.\n",
      "- **Code Structure and Modularity**: The function is self-contained and modular, performing a specific task clearly separated from other potential tasks.\n",
      "\n",
      "The other categories (Performance and Optimization, Testing and Debugging, Documentation and Readability, Security and Privacy, Reproducibility and Consistency, File and Data Management, UI and Interaction) are not directly relevant to this specific function as it's a data analysis utility without UI, file I/O, or explicit security considerations.\n",
      "[]\n"
     ]
    }
   ],
   "source": [
    "relevant_categories = client2.get_model_response(prompt=prompt, system_prompt=SYSTEM_PROMPT_STAGE1)\n",
    "print(relevant_categories)\n",
    "relevant_categories = extract_json(relevant_categories,\"relevant_categories\")\n",
    "print(relevant_categories)"
   ]
  },
  {
   "cell_type": "markdown",
   "id": "20023f92",
   "metadata": {},
   "source": [
    "# Step 3: Instruction Simplification & Implicit Constraint Extraction"
   ]
  },
  {
   "cell_type": "code",
   "execution_count": 12,
   "id": "80ccf611",
   "metadata": {},
   "outputs": [
    {
     "name": "stdout",
     "output_type": "stream",
     "text": [
      "\n",
      "    \"task\": \"Carefully analyze the provided programming `instruction`. Your main goal is to separate the core problem description from any explicit constraints or directives embedded within the instruction's text. You must return the core problem description as 'simplified_instruction' and all identified explicit constraints as 'extracted_constraints'.\",\n",
      "\n",
      "    \"context\": \"You are provided with an `instruction` that describes a coding task and a list of `relevant_categories` that apply to this instruction. The `instruction` might contain specific rules, formatting requirements, or implementation details interwoven into its narrative. You need to pull these out.\",\n",
      "\n",
      "    \"goal\": \"Perform the following steps:\n",
      "    1. **Identify and Extract Explicit Constraints:** Read the `instruction` and pinpoint all **explicit** constraints, directives, or specific requirements (e.g., about function names, return types, error handling, algorithms to use, variable naming, documentation, etc.).\n",
      "    2. **Split Compound Constraints into Atomic Ones:** If any sentence or clause contains multiple distinct requirements, split it into **multiple entries**, ensuring **each extracted constraint refers to exactly one requirement or condition**.\n",
      "       Do not combine multiple checks (e.g., multiple `if` conditions or causes for `ValueError`) into one constraint.\n",
      "    3. **Simplify Instruction:** Create a 'simplified_instruction' by removing only these identified explicit constraints, leaving behind the core problem explanation.\n",
      "        **CRITICAL:** If the original `instruction` contains any starter code (e.g., code in ```python blocks) or any solution snippets demarcated by 'BEGIN SOLUTION', you **MUST NOT** modify or remove these from the 'simplified_instruction'.\n",
      "        **Important:** If the original instruction contains any explanation or examples that are not constraints, you should keep them in the 'simplified_instruction' as they are part of the core problem description.\n",
      "    4. **Format Extracted Constraints with Categories:** For each extracted constraint:\n",
      "        - Include a separate item in the 'extracted_constraints' list.\n",
      "        - Set its 'type' to one of the categories from `relevant_categories`.\n",
      "        - Set 'instruction_part' to 'Extracted from instruction'.\n",
      "\n",
      "    Example:\n",
      "    - Original compound constraint: \"Raise ValueError if input is None or if it's an empty list.\"\n",
      "    - Extracted as:\n",
      "        {\n",
      "            \"type\": \"Error Handling and Robustness\",\n",
      "            \"constraint\": \"Raise ValueError if input is None.\",\n",
      "            \"instruction_part\": \"Extracted from instruction\"\n",
      "        },\n",
      "        {\n",
      "            \"type\": \"Error Handling and Robustness\",\n",
      "            \"constraint\": \"Raise ValueError if input is an empty list.\",\n",
      "            \"instruction_part\": \"Extracted from instruction\"\n",
      "        }\n",
      "\n",
      "    Your output must be a JSON object with two fields: 'simplified_instruction' and 'extracted_constraints'.\n",
      "    \",\n",
      "\n",
      "    \"JSON Response Format\": {\n",
      "        \"simplified_instruction\": \"The core problem description from the original instruction, with explicit constraints/directives removed. Starter code (e.g., ```python blocks) and solution snippets (e.g., marked by 'BEGIN SOLUTION') must be preserved.\",\n",
      "        \"extracted_constraints\": [\n",
      "            {\n",
      "                \"type\": \"Constraint_Category_Name\",  // MUST be one of the provided relevant_categories\n",
      "                \"constraint\": \"A single, atomic extracted constraint.\",\n",
      "                \"instruction_part\": \"Extracted from instruction\"\n",
      "            }\n",
      "        ]\n",
      "    },\n",
      "\n",
      "    \"Inputs Required\": {\n",
      "        \"instruction\": Perform a chi-square test of independence of variables in a contingency table. This function takes a DataFrame containing categorical data and two column names, then constructs a contingency table from the two categorical columns and performs a chi-square test of independence. It returns the p-value of the test, which indicates the probability of observing the data if the null hypothesis (independence of the variables) is true. >>> np.random.seed(42) >>> data = pd.DataFrame({ ...     'a': np.random.choice(['A', 'B'], size=100), ...     'b': np.random.choice(['X', 'Y'], size=100) ... }) >>> task_func(data, 'a', 'b') 1.0\n",
      "The function should raise the exception for: ValueError: If 'data' is empty, if 'col1' or 'col2' are not in 'data', if one or both of the columns do not have multiple categories, or if some categories have less than 5 observations (violating the chi-square test assumptions). TypeError: If one or both of the columns contain non-categorical data.\n",
      "The function should output with:\n",
      "    float: The p-value of the chi-square test of independence.\n",
      "You should write self-contained code starting with:\n",
      "```\n",
      "import pandas as pd\n",
      "import numpy as np\n",
      "from scipy.stats import chi2_contingency\n",
      "def task_func(data, col1, col2):\n",
      "```\n",
      "        \"relevant_categories\": \n",
      "    }\n",
      "    \n"
     ]
    }
   ],
   "source": [
    "SYSTEM_PROMPT_STAGE2 = \"\"\"\n",
    "You are an expert natural language processor and code instruction analyst. Your task is to meticulously read a programming instruction, identify and extract any embedded constraints, separate them from the core problem description, and map them to provided high-level categories. You must preserve any provided starter code or solution snippets.\n",
    "\"\"\"\n",
    "\n",
    "def get_prompt_stage2_extract_and_simplify(instruction: str, relevant_categories: list[str]) -> str:\n",
    "    relevant_categories_str = \", \".join(relevant_categories)\n",
    "\n",
    "    prompt = f\"\"\"\n",
    "    \"task\": \"Carefully analyze the provided programming `instruction`. Your main goal is to separate the core problem description from any explicit constraints or directives embedded within the instruction's text. You must return the core problem description as 'simplified_instruction' and all identified explicit constraints as 'extracted_constraints'.\",\n",
    "\n",
    "    \"context\": \"You are provided with an `instruction` that describes a coding task and a list of `relevant_categories` that apply to this instruction. The `instruction` might contain specific rules, formatting requirements, or implementation details interwoven into its narrative. You need to pull these out.\",\n",
    "\n",
    "    \"goal\": \"Perform the following steps:\n",
    "    1. **Identify and Extract Explicit Constraints:** Read the `instruction` and pinpoint all **explicit** constraints, directives, or specific requirements (e.g., about function names, return types, error handling, algorithms to use, variable naming, documentation, etc.).\n",
    "    2. **Split Compound Constraints into Atomic Ones:** If any sentence or clause contains multiple distinct requirements, split it into **multiple entries**, ensuring **each extracted constraint refers to exactly one requirement or condition**.\n",
    "       Do not combine multiple checks (e.g., multiple `if` conditions or causes for `ValueError`) into one constraint.\n",
    "    3. **Simplify Instruction:** Create a 'simplified_instruction' by removing only these identified explicit constraints, leaving behind the core problem explanation.\n",
    "        **CRITICAL:** If the original `instruction` contains any starter code (e.g., code in ```python blocks) or any solution snippets demarcated by 'BEGIN SOLUTION', you **MUST NOT** modify or remove these from the 'simplified_instruction'.\n",
    "        **Important:** If the original instruction contains any explanation or examples that are not constraints, you should keep them in the 'simplified_instruction' as they are part of the core problem description.\n",
    "    4. **Format Extracted Constraints with Categories:** For each extracted constraint:\n",
    "        - Include a separate item in the 'extracted_constraints' list.\n",
    "        - Set its 'type' to one of the categories from `relevant_categories`.\n",
    "        - Set 'instruction_part' to 'Extracted from instruction'.\n",
    "\n",
    "    Example:\n",
    "    - Original compound constraint: \"Raise ValueError if input is None or if it's an empty list.\"\n",
    "    - Extracted as:\n",
    "        {{\n",
    "            \"type\": \"Error Handling and Robustness\",\n",
    "            \"constraint\": \"Raise ValueError if input is None.\",\n",
    "            \"instruction_part\": \"Extracted from instruction\"\n",
    "        }},\n",
    "        {{\n",
    "            \"type\": \"Error Handling and Robustness\",\n",
    "            \"constraint\": \"Raise ValueError if input is an empty list.\",\n",
    "            \"instruction_part\": \"Extracted from instruction\"\n",
    "        }}\n",
    "\n",
    "    Your output must be a JSON object with two fields: 'simplified_instruction' and 'extracted_constraints'.\n",
    "    \",\n",
    "\n",
    "    \"JSON Response Format\": {{\n",
    "        \"simplified_instruction\": \"The core problem description from the original instruction, with explicit constraints/directives removed. Starter code (e.g., ```python blocks) and solution snippets (e.g., marked by 'BEGIN SOLUTION') must be preserved.\",\n",
    "        \"extracted_constraints\": [\n",
    "            {{\n",
    "                \"type\": \"Constraint_Category_Name\",  // MUST be one of the provided relevant_categories\n",
    "                \"constraint\": \"A single, atomic extracted constraint.\",\n",
    "                \"instruction_part\": \"Extracted from instruction\"\n",
    "            }}\n",
    "        ]\n",
    "    }},\n",
    "\n",
    "    \"Inputs Required\": {{\n",
    "        \"instruction\": {instruction}\n",
    "        \"relevant_categories\": {relevant_categories_str}\n",
    "    }}\n",
    "    \"\"\"\n",
    "    return prompt\n",
    "\n",
    "\n",
    "prompt_stage2 = get_prompt_stage2_extract_and_simplify(df.iloc[26][\"instruction\"],relevant_categories)\n",
    "print(prompt_stage2)"
   ]
  },
  {
   "cell_type": "code",
   "execution_count": 13,
   "id": "fe49f24a",
   "metadata": {},
   "outputs": [
    {
     "name": "stdout",
     "output_type": "stream",
     "text": [
      "\n",
      "    \"task\": \"Carefully analyze the provided programming `instruction`. Your main goal is to separate the core problem description from any explicit constraints or directives embedded within the instruction's text. You must return the core problem description as 'simplified_instruction' and all identified explicit constraints as 'extracted_constraints'.\",\n",
      "\n",
      "    \"context\": \"You are provided with an `instruction` that describes a coding task and a list of `relevant_categories` that apply to this instruction. The `instruction` might contain specific rules, formatting requirements, or implementation details interwoven into its narrative. You need to pull these out.\",\n",
      "\n",
      "    \"goal\": \"Perform the following steps:\n",
      "    1. **Identify and Extract Explicit Constraints:** Read the `instruction` and pinpoint all **explicit** constraints, directives, or specific requirements (e.g., about function names, return types, error handling, algorithms to use, variable naming, documentation, etc.).\n",
      "    2. **Split Compound Constraints into Atomic Ones:** If any sentence or clause contains multiple distinct requirements, split it into **multiple entries**, ensuring **each extracted constraint refers to exactly one requirement or condition**.\n",
      "       Do not combine multiple checks (e.g., multiple `if` conditions or causes for `ValueError`) into one constraint.\n",
      "    3. **Simplify Instruction:** Create a 'simplified_instruction' by removing only these identified explicit constraints, leaving behind the core problem explanation.\n",
      "        **CRITICAL:** If the original `instruction` contains any starter code (e.g., code in ```python blocks) or any solution snippets demarcated by 'BEGIN SOLUTION', you **MUST NOT** modify or remove these from the 'simplified_instruction'.\n",
      "        **Important:** If the original instruction contains any explanation or examples that are not constraints, you should keep them in the 'simplified_instruction' as they are part of the core problem description.\n",
      "    4. **Format Extracted Constraints with Categories:** For each extracted constraint:\n",
      "        - Include a separate item in the 'extracted_constraints' list.\n",
      "        - Set its 'type' to one of the categories from `relevant_categories`.\n",
      "        - Set 'instruction_part' to 'Extracted from instruction'.\n",
      "\n",
      "    Example:\n",
      "    - Original compound constraint: \"Raise ValueError if input is None or if it's an empty list.\"\n",
      "    - Extracted as:\n",
      "        {\n",
      "            \"type\": \"Error Handling and Robustness\",\n",
      "            \"constraint\": \"Raise ValueError if input is None.\",\n",
      "            \"instruction_part\": \"Extracted from instruction\"\n",
      "        },\n",
      "        {\n",
      "            \"type\": \"Error Handling and Robustness\",\n",
      "            \"constraint\": \"Raise ValueError if input is an empty list.\",\n",
      "            \"instruction_part\": \"Extracted from instruction\"\n",
      "        }\n",
      "\n",
      "    Your output must be a JSON object with two fields: 'simplified_instruction' and 'extracted_constraints'.\n",
      "    \",\n",
      "\n",
      "    \"JSON Response Format\": {\n",
      "        \"simplified_instruction\": \"The core problem description from the original instruction, with explicit constraints/directives removed. Starter code (e.g., ```python blocks) and solution snippets (e.g., marked by 'BEGIN SOLUTION') must be preserved.\",\n",
      "        \"extracted_constraints\": [\n",
      "            {\n",
      "                \"type\": \"Constraint_Category_Name\",  // MUST be one of the provided relevant_categories\n",
      "                \"constraint\": \"A single, atomic extracted constraint.\",\n",
      "                \"instruction_part\": \"Extracted from instruction\"\n",
      "            }\n",
      "        ]\n",
      "    },\n",
      "\n",
      "    \"Inputs Required\": {\n",
      "        \"instruction\": Write a function that sorts a list of numbers using merge sort with time complexity O(n log n).\n",
      "        \"relevant_categories\": \n",
      "    }\n",
      "    \n"
     ]
    }
   ],
   "source": [
    "instruction2 = \"Write a function that sorts a list of numbers using merge sort with time complexity O(n log n).\"\n",
    "code2 = \"def merge_sort(arr):\\n    if len(arr) > 1:\\n        mid = len(arr) // 2\\n        left_half = arr[:mid]\\n        right_half = arr[mid:]\\n\\n        merge_sort(left_half)\\n        merge_sort(right_half)\\n\\n        i = j = k = 0\\n\\n        while i < len(left_half) and j < len(right_half):\\n            if left_half[i] < right_half[j]:\\n                arr[k] = left_half[i]\\  i += 1\\n            else:\\n                arr[k] = right_half[j]\\  j += 1\\n            k += 1\\n\\n        while i < len(left_half):\\n            arr[k] = left_half[i]\\  i += 1\\  k += 1\\n\\n        while j < len(right_half):\\n            arr[k] = right_half[j]\\  j += 1\\  k += 1\\n\\n    return arr\"\n",
    "example_prompt2 = get_prompt_stage2_extract_and_simplify(instruction2,relevant_categories)\n",
    "print(example_prompt2)"
   ]
  },
  {
   "cell_type": "code",
   "execution_count": 14,
   "id": "871365be",
   "metadata": {},
   "outputs": [
    {
     "name": "stdout",
     "output_type": "stream",
     "text": [
      "{\n",
      "  \"simplified_instruction\": \"Write a function that sorts a list of numbers using merge sort.\",\n",
      "  \"extracted_constraints\": [\n",
      "    {\n",
      "      \"type\": \"Time Complexity\",\n",
      "      \"constraint\": \"with time complexity O(n log n)\",\n",
      "      \"instruction_part\": \"Extracted from instruction\"\n",
      "    }\n",
      "  ]\n",
      "}\n"
     ]
    }
   ],
   "source": [
    "response = client2.get_model_response(example_prompt2,SYSTEM_PROMPT_STAGE2)\n",
    "print(response)"
   ]
  },
  {
   "cell_type": "markdown",
   "id": "34cfff77",
   "metadata": {},
   "source": [
    "# Testing on NL instructions"
   ]
  },
  {
   "cell_type": "markdown",
   "id": "c9e724ed",
   "metadata": {},
   "source": [
    "## Complex bench data"
   ]
  },
  {
   "cell_type": "code",
   "execution_count": 15,
   "id": "cd96e56b",
   "metadata": {},
   "outputs": [
    {
     "name": "stdout",
     "output_type": "stream",
     "text": [
      "--2025-07-02 21:48:53--  https://raw.githubusercontent.com/thu-coai/ComplexBench/refs/heads/main/data/data_final.json\n",
      "Resolving raw.githubusercontent.com (raw.githubusercontent.com)... 185.199.109.133, 185.199.110.133, 185.199.111.133, ...\n",
      "Connecting to raw.githubusercontent.com (raw.githubusercontent.com)|185.199.109.133|:443... connected.\n",
      "HTTP request sent, awaiting response... 200 OK\n",
      "Length: 6743190 (6.4M) [text/plain]\n"
     ]
    },
    {
     "name": "stdout",
     "output_type": "stream",
     "text": [
      "Saving to: ‘data_final.json.1’\n",
      "\n",
      "data_final.json.1   100%[===================>]   6.43M  --.-KB/s    in 0.09s   \n",
      "\n",
      "2025-07-02 21:49:05 (68.7 MB/s) - ‘data_final.json.1’ saved [6743190/6743190]\n",
      "\n"
     ]
    }
   ],
   "source": [
    "!wget https://raw.githubusercontent.com/thu-coai/ComplexBench/refs/heads/main/data/data_final.json"
   ]
  },
  {
   "cell_type": "code",
   "execution_count": 16,
   "id": "44d620cb",
   "metadata": {},
   "outputs": [
    {
     "name": "stdout",
     "output_type": "stream",
     "text": [
      "Index(['main_id', 'group', 'idx_in_group', 'instruction', 'instruction_en',\n",
      "       'task_types', 'constraint_dimensions', 'composition_types', 'category',\n",
      "       'scoring_questions'],\n",
      "      dtype='object')\n"
     ]
    }
   ],
   "source": [
    "import pandas as pd\n",
    "complex_bench = pd.read_json(\"data_final.json\")\n",
    "print(complex_bench.columns)\n"
   ]
  },
  {
   "cell_type": "markdown",
   "id": "0f4609b5",
   "metadata": {},
   "source": [
    "## FollowBench Data"
   ]
  },
  {
   "cell_type": "code",
   "execution_count": 17,
   "id": "5ec22189",
   "metadata": {},
   "outputs": [],
   "source": [
    "from datasets import load_dataset\n",
    "\n",
    "followbench_data = load_dataset(\"YuxinJiang/FollowBench\")"
   ]
  },
  {
   "cell_type": "code",
   "execution_count": 18,
   "id": "93b33f79",
   "metadata": {},
   "outputs": [
    {
     "name": "stdout",
     "output_type": "stream",
     "text": [
      "Index(['example_id', 'category', 'source', 'instruction', 'level', 'target'], dtype='object')\n"
     ]
    }
   ],
   "source": [
    "followbench_data = followbench_data[\"train\"].to_pandas()\n",
    "print(followbench_data.columns)"
   ]
  },
  {
   "cell_type": "code",
   "execution_count": 19,
   "id": "8cec9eae",
   "metadata": {},
   "outputs": [
    {
     "data": {
      "text/html": [
       "<div>\n",
       "<style scoped>\n",
       "    .dataframe tbody tr th:only-of-type {\n",
       "        vertical-align: middle;\n",
       "    }\n",
       "\n",
       "    .dataframe tbody tr th {\n",
       "        vertical-align: top;\n",
       "    }\n",
       "\n",
       "    .dataframe thead th {\n",
       "        text-align: right;\n",
       "    }\n",
       "</style>\n",
       "<table border=\"1\" class=\"dataframe\">\n",
       "  <thead>\n",
       "    <tr style=\"text-align: right;\">\n",
       "      <th></th>\n",
       "      <th>example_id</th>\n",
       "      <th>category</th>\n",
       "      <th>source</th>\n",
       "      <th>instruction</th>\n",
       "      <th>level</th>\n",
       "      <th>target</th>\n",
       "    </tr>\n",
       "  </thead>\n",
       "  <tbody>\n",
       "    <tr>\n",
       "      <th>0</th>\n",
       "      <td>1</td>\n",
       "      <td>content</td>\n",
       "      <td>t0_zsnoopt_data</td>\n",
       "      <td>Pick one category for the following text. The ...</td>\n",
       "      <td>0</td>\n",
       "      <td></td>\n",
       "    </tr>\n",
       "    <tr>\n",
       "      <th>1</th>\n",
       "      <td>1</td>\n",
       "      <td>content</td>\n",
       "      <td>t0_zsnoopt_data</td>\n",
       "      <td>Identify one category from the list below for ...</td>\n",
       "      <td>1</td>\n",
       "      <td></td>\n",
       "    </tr>\n",
       "    <tr>\n",
       "      <th>2</th>\n",
       "      <td>1</td>\n",
       "      <td>content</td>\n",
       "      <td>t0_zsnoopt_data</td>\n",
       "      <td>Identify one category and the sentiment convey...</td>\n",
       "      <td>2</td>\n",
       "      <td></td>\n",
       "    </tr>\n",
       "    <tr>\n",
       "      <th>3</th>\n",
       "      <td>1</td>\n",
       "      <td>content</td>\n",
       "      <td>t0_zsnoopt_data</td>\n",
       "      <td>Analyze the provided text to pinpoint a catego...</td>\n",
       "      <td>3</td>\n",
       "      <td></td>\n",
       "    </tr>\n",
       "    <tr>\n",
       "      <th>4</th>\n",
       "      <td>1</td>\n",
       "      <td>content</td>\n",
       "      <td>t0_zsnoopt_data</td>\n",
       "      <td>Analyze the supplied text to discern a categor...</td>\n",
       "      <td>4</td>\n",
       "      <td></td>\n",
       "    </tr>\n",
       "  </tbody>\n",
       "</table>\n",
       "</div>"
      ],
      "text/plain": [
       "   example_id category           source  \\\n",
       "0           1  content  t0_zsnoopt_data   \n",
       "1           1  content  t0_zsnoopt_data   \n",
       "2           1  content  t0_zsnoopt_data   \n",
       "3           1  content  t0_zsnoopt_data   \n",
       "4           1  content  t0_zsnoopt_data   \n",
       "\n",
       "                                         instruction  level target  \n",
       "0  Pick one category for the following text. The ...      0         \n",
       "1  Identify one category from the list below for ...      1         \n",
       "2  Identify one category and the sentiment convey...      2         \n",
       "3  Analyze the provided text to pinpoint a catego...      3         \n",
       "4  Analyze the supplied text to discern a categor...      4         "
      ]
     },
     "execution_count": 19,
     "metadata": {},
     "output_type": "execute_result"
    }
   ],
   "source": [
    "followbench_data.head()"
   ]
  },
  {
   "cell_type": "code",
   "execution_count": 20,
   "id": "521467da",
   "metadata": {},
   "outputs": [
    {
     "name": "stdout",
     "output_type": "stream",
     "text": [
      "<class 'pandas.core.frame.DataFrame'>\n",
      "RangeIndex: 1150 entries, 0 to 1149\n",
      "Data columns (total 10 columns):\n",
      " #   Column                 Non-Null Count  Dtype \n",
      "---  ------                 --------------  ----- \n",
      " 0   main_id                1150 non-null   int64 \n",
      " 1   group                  1150 non-null   object\n",
      " 2   idx_in_group           1150 non-null   int64 \n",
      " 3   instruction            1150 non-null   object\n",
      " 4   instruction_en         1150 non-null   object\n",
      " 5   task_types             1150 non-null   object\n",
      " 6   constraint_dimensions  1150 non-null   object\n",
      " 7   composition_types      1150 non-null   object\n",
      " 8   category               1150 non-null   object\n",
      " 9   scoring_questions      1150 non-null   object\n",
      "dtypes: int64(2), object(8)\n",
      "memory usage: 90.0+ KB\n"
     ]
    }
   ],
   "source": [
    "complex_bench.info()"
   ]
  },
  {
   "cell_type": "code",
   "execution_count": 21,
   "id": "f7aef36c",
   "metadata": {},
   "outputs": [
    {
     "data": {
      "text/html": [
       "<div>\n",
       "<style scoped>\n",
       "    .dataframe tbody tr th:only-of-type {\n",
       "        vertical-align: middle;\n",
       "    }\n",
       "\n",
       "    .dataframe tbody tr th {\n",
       "        vertical-align: top;\n",
       "    }\n",
       "\n",
       "    .dataframe thead th {\n",
       "        text-align: right;\n",
       "    }\n",
       "</style>\n",
       "<table border=\"1\" class=\"dataframe\">\n",
       "  <thead>\n",
       "    <tr style=\"text-align: right;\">\n",
       "      <th></th>\n",
       "      <th>main_id</th>\n",
       "      <th>group</th>\n",
       "      <th>idx_in_group</th>\n",
       "      <th>instruction</th>\n",
       "      <th>instruction_en</th>\n",
       "      <th>task_types</th>\n",
       "      <th>constraint_dimensions</th>\n",
       "      <th>composition_types</th>\n",
       "      <th>category</th>\n",
       "      <th>scoring_questions</th>\n",
       "    </tr>\n",
       "  </thead>\n",
       "  <tbody>\n",
       "    <tr>\n",
       "      <th>0</th>\n",
       "      <td>0</td>\n",
       "      <td>complex_instruction_eval_10</td>\n",
       "      <td>1</td>\n",
       "      <td>背景资料：\\n\"\"\"\\n神顶科技（南京）有限公司（以下简称“神顶科技”）近日完成数千万元新一...</td>\n",
       "      <td>Background:\\n\"\"\\nShending Technology (Nanjing)...</td>\n",
       "      <td>Practical Writing</td>\n",
       "      <td>[Consistency, Supportiveness, Template, Helpfu...</td>\n",
       "      <td>[And]</td>\n",
       "      <td>And</td>\n",
       "      <td>[{'point_id': 0, 'question': '模型回复是否符合指令中的格式要求...</td>\n",
       "    </tr>\n",
       "    <tr>\n",
       "      <th>1</th>\n",
       "      <td>1</td>\n",
       "      <td>complex_instruction_eval_78</td>\n",
       "      <td>1</td>\n",
       "      <td>你是一个rapper，帮我写一首歌词，歌词第一句是“总是跟不上脚步”。歌词整体要正面、积极向...</td>\n",
       "      <td>You are a rapper, help me write a song lyric, ...</td>\n",
       "      <td>Creative Writing</td>\n",
       "      <td>[Language Style, Consistency, Helpfulness, Tar...</td>\n",
       "      <td>[And]</td>\n",
       "      <td>And</td>\n",
       "      <td>[{'point_id': 0, 'question': '模型回复是否帮助用户写了一首歌词...</td>\n",
       "    </tr>\n",
       "    <tr>\n",
       "      <th>2</th>\n",
       "      <td>2</td>\n",
       "      <td>complex_instruction_eval_150</td>\n",
       "      <td>1</td>\n",
       "      <td>你是一位女性英语口语对话教练，名字是Echo，参考[角色]中的信息，和用户进行英文对话练习。...</td>\n",
       "      <td>You are a female English conversation coach na...</td>\n",
       "      <td>Task-oriented Role Play</td>\n",
       "      <td>[Personalization, Language Style, Consistency,...</td>\n",
       "      <td>[And]</td>\n",
       "      <td>And</td>\n",
       "      <td>[{'point_id': 0, 'question': '模型回复是否代入了Echo角色，...</td>\n",
       "    </tr>\n",
       "    <tr>\n",
       "      <th>3</th>\n",
       "      <td>3</td>\n",
       "      <td>complex_instruction_eval_190</td>\n",
       "      <td>1</td>\n",
       "      <td>背景资料：\\n\"\"\"\\n中大功率电源管理芯片公司源微半导体完成千万级A轮融资，由无锡海创投资...</td>\n",
       "      <td>Background:\\n\"\"\\nYuanwei Semiconductor, a comp...</td>\n",
       "      <td>Practical Writing</td>\n",
       "      <td>[Template, Consistency, Helpfulness, Supportiv...</td>\n",
       "      <td>[And]</td>\n",
       "      <td>And</td>\n",
       "      <td>[{'point_id': 0, 'question': '模型是否完成了新闻改写？', '...</td>\n",
       "    </tr>\n",
       "    <tr>\n",
       "      <th>4</th>\n",
       "      <td>4</td>\n",
       "      <td>complex_instruction_eval_201</td>\n",
       "      <td>1</td>\n",
       "      <td>人们因技术发展得以更好地掌控时间，但也有人因此成了时间的仆人。\\n   这句话引发了你怎样的...</td>\n",
       "      <td>People are able to better manage their time du...</td>\n",
       "      <td>Custom Writing</td>\n",
       "      <td>[Helpfulness, Length, Factuality, Language Style]</td>\n",
       "      <td>[And]</td>\n",
       "      <td>And</td>\n",
       "      <td>[{'point_id': 0, 'question': '模型回复的语言风格是否客观中立？...</td>\n",
       "    </tr>\n",
       "  </tbody>\n",
       "</table>\n",
       "</div>"
      ],
      "text/plain": [
       "   main_id                         group  idx_in_group  \\\n",
       "0        0   complex_instruction_eval_10             1   \n",
       "1        1   complex_instruction_eval_78             1   \n",
       "2        2  complex_instruction_eval_150             1   \n",
       "3        3  complex_instruction_eval_190             1   \n",
       "4        4  complex_instruction_eval_201             1   \n",
       "\n",
       "                                         instruction  \\\n",
       "0  背景资料：\\n\"\"\"\\n神顶科技（南京）有限公司（以下简称“神顶科技”）近日完成数千万元新一...   \n",
       "1  你是一个rapper，帮我写一首歌词，歌词第一句是“总是跟不上脚步”。歌词整体要正面、积极向...   \n",
       "2  你是一位女性英语口语对话教练，名字是Echo，参考[角色]中的信息，和用户进行英文对话练习。...   \n",
       "3  背景资料：\\n\"\"\"\\n中大功率电源管理芯片公司源微半导体完成千万级A轮融资，由无锡海创投资...   \n",
       "4  人们因技术发展得以更好地掌控时间，但也有人因此成了时间的仆人。\\n   这句话引发了你怎样的...   \n",
       "\n",
       "                                      instruction_en               task_types  \\\n",
       "0  Background:\\n\"\"\\nShending Technology (Nanjing)...        Practical Writing   \n",
       "1  You are a rapper, help me write a song lyric, ...         Creative Writing   \n",
       "2  You are a female English conversation coach na...  Task-oriented Role Play   \n",
       "3  Background:\\n\"\"\\nYuanwei Semiconductor, a comp...        Practical Writing   \n",
       "4  People are able to better manage their time du...           Custom Writing   \n",
       "\n",
       "                               constraint_dimensions composition_types  \\\n",
       "0  [Consistency, Supportiveness, Template, Helpfu...             [And]   \n",
       "1  [Language Style, Consistency, Helpfulness, Tar...             [And]   \n",
       "2  [Personalization, Language Style, Consistency,...             [And]   \n",
       "3  [Template, Consistency, Helpfulness, Supportiv...             [And]   \n",
       "4  [Helpfulness, Length, Factuality, Language Style]             [And]   \n",
       "\n",
       "  category                                  scoring_questions  \n",
       "0      And  [{'point_id': 0, 'question': '模型回复是否符合指令中的格式要求...  \n",
       "1      And  [{'point_id': 0, 'question': '模型回复是否帮助用户写了一首歌词...  \n",
       "2      And  [{'point_id': 0, 'question': '模型回复是否代入了Echo角色，...  \n",
       "3      And  [{'point_id': 0, 'question': '模型是否完成了新闻改写？', '...  \n",
       "4      And  [{'point_id': 0, 'question': '模型回复的语言风格是否客观中立？...  "
      ]
     },
     "execution_count": 21,
     "metadata": {},
     "output_type": "execute_result"
    }
   ],
   "source": [
    "complex_bench.head()"
   ]
  },
  {
   "cell_type": "code",
   "execution_count": 22,
   "id": "cd75b9d9",
   "metadata": {},
   "outputs": [
    {
     "name": "stdout",
     "output_type": "stream",
     "text": [
      "Background:\n",
      "\"\"\n",
      "Shending Technology (Nanjing) Co.,Ltd. (hereinafter referred to as \"Shending Technology\") has recently completed a new strategic financing round worth tens of millions of RMB. The investors are Shenzhen Hi-Tech Investment Group and Kunshan Taiwan Business Development Fund. \n",
      "The funds from this round will be allocated towards the expansion of solution development and mass promotion of smart sensing fusion chips.\n",
      "Shending Technology boasts fully independent R&D capabilities in 3D smart sensing fusion technology. Currently, leveraging its extensive productization experience and supply chain integration capabilities, the company's R&D team has developed a 3D smart sensing fusion SoC chip platform based on Smart Fusion technology. This platform meets the unique scenario requirements of mobile robots and retains the comprehensive expandability of mobile robot hardware and offers cost advantages.\n",
      "Regarding future development, a relevant representative from Shending Technology stated: \"At present, Shending Technology has acquired multiple core technologies and patent achievements, and has accumulated technical advantages in sensing fusion, image algorithms, and artificial intelligence. Following this financing, Shending Technology will continue to adhere to innovation-driven development, advancing the smart sensing fusion field, and providing higher-quality solutions and services for the intelligence of perception systems in mobile robots, AR/VR augmented/virtual reality, and autonomous driving.\" \n",
      "\"\"\n",
      "\n",
      "Please rewrite it into English news based on the background information. The news consists of a \"headline\" and a \"body\", and the rewriting takes place in the body part.\n",
      "The \"headline\" should summarise the news. The headline consists of the business and financing, and the purpose of the financing.\n",
      "The \"body\" should describe the enterprise and financing in the first paragraph (including the progress of the financing, the financier, the amount of financing, and the purpose of financing); in the following paragraphs, it describes the enterprise in terms of its name, business, team, speeches, core technology, technology direction, and product progress, and so on.\n",
      "\n",
      "Your news needs to comply with the following regulations:\n",
      "1. The headline and the content of the main body must fit together and be consistent.\n",
      "2. Re-express the information in the body of the background information, but the names of people, objects, numbers, dates, and behaviour can not be changed.\n",
      "3. The language of the rewritten news should be in English.\n",
      "\n",
      "Output format:\n",
      "\"\"\n",
      "Today's news:\n",
      "Title:\n",
      "[ ]\n",
      "Text:\n",
      "[ ]\n",
      "\"\"\n"
     ]
    }
   ],
   "source": [
    "print(complex_bench.iloc[0][\"instruction_en\"])"
   ]
  },
  {
   "cell_type": "markdown",
   "id": "04b53ccf",
   "metadata": {},
   "source": [
    "objectives:\n",
    "- The pompt should extract the constraints existing in the instruction.\n",
    "- The constraints needs to be atomic \n"
   ]
  },
  {
   "cell_type": "markdown",
   "id": "3f96a391",
   "metadata": {},
   "source": [
    "## Version 1"
   ]
  },
  {
   "cell_type": "code",
   "execution_count": 23,
   "id": "9dcddcde",
   "metadata": {},
   "outputs": [],
   "source": [
    "def prompt_extract_constraints(instruction):\n",
    "    prompt = f\"\"\"\n",
    "    context: I have instruction for LLM to generate response.\n",
    "    Task: Take the instrcution and extract the constraints from it.\n",
    "    Constraints are the additional requirements apart from the main task that the LLM needs to follow while generating the response.\n",
    "    Rules for completing the task:\n",
    "    1. The constraints should be atomic, meaning each constraint should represent a single requirement or condition.\n",
    "    2. The constraints should be extracted from the instruction and should not include any additional information.\n",
    "    ## Input Format:\n",
    "    {{\"instruction\": {instruction}\n",
    "    }}\n",
    "    ## Response Format:\n",
    "    You should extract the constraints from the instruction and\n",
    "    return them in a JSON format with the following structure:\n",
    "    {{ \"constraints\": [<constraint1>, <constraint2>, ...] }}\n",
    "    where each <constraint> is a string representing a single atomic constraint.\n",
    "    \"\"\"\n",
    "    return prompt\n",
    "prompt = prompt_extract_constraints(complex_bench.iloc[0][\"instruction_en\"])"
   ]
  },
  {
   "cell_type": "code",
   "execution_count": 24,
   "id": "1f505b89",
   "metadata": {},
   "outputs": [
    {
     "name": "stdout",
     "output_type": "stream",
     "text": [
      "{\n",
      "  \"constraints\": [\n",
      "    \"Rewrite the given background information into English news format.\",\n",
      "    \"The news should consist of a 'headline' and a 'body'.\",\n",
      "    \"The 'headline' should summarize the news, including the business, financing, and purpose of the financing.\",\n",
      "    \"The 'body' should describe the enterprise and financing in the first paragraph, including financing progress, financier, amount, and purpose.\",\n",
      "    \"Subsequent paragraphs should detail the enterprise's name, business, team, speeches, core technology, technology direction, and product progress.\",\n",
      "    \"Ensure the headline and body content are consistent.\",\n",
      "    \"Re-express information without changing names of people, objects, numbers, dates, or behaviors.\",\n",
      "    \"Use English language for the rewritten news.\"\n",
      "  ]\n",
      "}\n"
     ]
    }
   ],
   "source": [
    "response = client2.get_model_response(prompt)\n",
    "print(response)"
   ]
  },
  {
   "cell_type": "markdown",
   "id": "e3b78fcd",
   "metadata": {},
   "source": [
    "## Generate constraint method"
   ]
  },
  {
   "cell_type": "code",
   "execution_count": 25,
   "id": "6fdb498a",
   "metadata": {},
   "outputs": [],
   "source": [
    "\n",
    "def generate_constraints(instruction,prompt_function=prompt_extract_constraints):\n",
    "    print(\"Generating constraints for instruction:\\n\",instruction)\n",
    "    prompt = prompt_function(instruction)\n",
    "    print(\"\\nPrompt for constraint extraction:\\n\", prompt)\n",
    "    response = client2.get_model_response(prompt)\n",
    "    print(\"\\ngenerated response:\\n\", response)\n",
    "    constraints = extract_json(response, \"constraints\")\n",
    "    return constraints"
   ]
  },
  {
   "cell_type": "markdown",
   "id": "9bedacac",
   "metadata": {},
   "source": [
    "## Testing Followbench examples\n"
   ]
  },
  {
   "cell_type": "code",
   "execution_count": 26,
   "id": "c8cf021f",
   "metadata": {},
   "outputs": [
    {
     "name": "stdout",
     "output_type": "stream",
     "text": [
      "<class 'pandas.core.frame.DataFrame'>\n",
      "RangeIndex: 1852 entries, 0 to 1851\n",
      "Data columns (total 6 columns):\n",
      " #   Column       Non-Null Count  Dtype \n",
      "---  ------       --------------  ----- \n",
      " 0   example_id   1852 non-null   int64 \n",
      " 1   category     1852 non-null   object\n",
      " 2   source       1852 non-null   object\n",
      " 3   instruction  1852 non-null   object\n",
      " 4   level        1852 non-null   int64 \n",
      " 5   target       1852 non-null   object\n",
      "dtypes: int64(2), object(4)\n",
      "memory usage: 86.9+ KB\n"
     ]
    }
   ],
   "source": [
    "followbench_data.info()"
   ]
  },
  {
   "cell_type": "code",
   "execution_count": 27,
   "id": "a862353b",
   "metadata": {},
   "outputs": [
    {
     "name": "stdout",
     "output_type": "stream",
     "text": [
      "Generating constraints for instruction:\n",
      " Pick one category for the following text. The options are - company, educational institution, artist, athlete, office holder, mean of transportation, building, natural place, village, animal, plant, album, film or written work. Michael DenDekker -  Michael G. DenDekker (born July 11 1961) is an assemblyman for the state of New York's 34th district which includes the neighborhoods of Woodside Jackson Heights and East Elmhurst all in the borough/county of Queens.\n",
      "\n",
      "Prompt for constraint extraction:\n",
      " \n",
      "    context: I have instruction for LLM to generate response.\n",
      "    Task: Take the instrcution and extract the constraints from it.\n",
      "    Constraints are the additional requirements apart from the main task that the LLM needs to follow while generating the response.\n",
      "    Rules for completing the task:\n",
      "    1. The constraints should be atomic, meaning each constraint should represent a single requirement or condition.\n",
      "    2. The constraints should be extracted from the instruction and should not include any additional information.\n",
      "    ## Input Format:\n",
      "    {\"instruction\": Pick one category for the following text. The options are - company, educational institution, artist, athlete, office holder, mean of transportation, building, natural place, village, animal, plant, album, film or written work. Michael DenDekker -  Michael G. DenDekker (born July 11 1961) is an assemblyman for the state of New York's 34th district which includes the neighborhoods of Woodside Jackson Heights and East Elmhurst all in the borough/county of Queens.\n",
      "    }\n",
      "    ## Response Format:\n",
      "    You should extract the constraints from the instruction and\n",
      "    return them in a JSON format with the following structure:\n",
      "    { \"constraints\": [<constraint1>, <constraint2>, ...] }\n",
      "    where each <constraint> is a string representing a single atomic constraint.\n",
      "    \n"
     ]
    },
    {
     "name": "stdout",
     "output_type": "stream",
     "text": [
      "\n",
      "generated response:\n",
      " {\n",
      "  \"constraints\": [\n",
      "    \"The response should pick one category\",\n",
      "    \"The categories to choose from are: company, educational institution, artist, athlete, office holder, mean of transportation, building, natural place, village, animal, plant, album, film or written work\",\n",
      "    \"The response should identify the category for Michael DenDekker\"\n",
      "  ]\n",
      "}\n"
     ]
    }
   ],
   "source": [
    "ex1 = generate_constraints(followbench_data.iloc[0][\"instruction\"])"
   ]
  },
  {
   "cell_type": "code",
   "execution_count": null,
   "id": "cdd0ab87",
   "metadata": {},
   "outputs": [],
   "source": [
    "instruction = \"\"\"  Identify one category from the list below for the input text, and also infer the sentiment (positive, neutral, or negative) conveyed in the text. Your options for the category are - company, educational institution, artist, athlete, office holder, mean of transportation, building, natural place, village, animal, plant, album, film, or written work. Michael DenDekker - Michael G. DenDekker (born July 11 1961) is an assemblyman for the state of New York's 34th district which includes the neighborhoods of Woodside, Jackson Heights, and East Elmhurst, all in the borough/county of Queens.\n",
    "\"\"\""
   ]
  },
  {
   "cell_type": "code",
   "execution_count": null,
   "id": "3537a1a6",
   "metadata": {},
   "outputs": [],
   "source": [
    "instruction = \"\"\"Generating constraints for instruction:\n",
    " Background:\n",
    "\"\"\n",
    "Shending Technology (Nanjing) Co.,Ltd. (hereinafter referred to as \"Shending Technology\") has recently completed a new strategic financing round worth tens of millions of RMB. The investors are Shenzhen Hi-Tech Investment Group and Kunshan Taiwan Business Development Fund. \n",
    "The funds from this round will be allocated towards the expansion of solution development and mass promotion of smart sensing fusion chips.\n",
    "Shending Technology boasts fully independent R&D capabilities in 3D smart sensing fusion technology. Currently, leveraging its extensive productization experience and supply chain integration capabilities, the company's R&D team has developed a 3D smart sensing fusion SoC chip platform based on Smart Fusion technology. This platform meets the unique scenario requirements of mobile robots and retains the comprehensive expandability of mobile robot hardware and offers cost advantages.\n",
    "Regarding future development, a relevant representative from Shending Technology stated: \"At present, Shending Technology has acquired multiple core technologies and patent achievements, and has accumulated technical advantages in sensing fusion, image algorithms, and artificial intelligence. Following this financing, Shending Technology will continue to adhere to innovation-driven development, advancing the smart sensing fusion field, and providing higher-quality solutions and services for the intelligence of perception systems in mobile robots, AR/VR augmented/virtual reality, and autonomous driving.\" \n",
    "\"\"\n",
    "\n",
    "Please rewrite it into English news based on the background information. The news consists of a \"headline\" and a \"body\", and the rewriting takes place in the body part.\n",
    "The \"headline\" should summarise the news. The headline consists of the business and financing, and the purpose of the financing.\n",
    "The \"body\" should describe the enterprise and financing in the first paragraph (including the progress of the financing, the financier, the amount of financing, and the purpose of financing); in the following paragraphs, it describes the enterprise in terms of its name, business, team, speeches, core technology, technology direction, and product progress, and so on.\n",
    "\n",
    "Your news needs to comply with the following regulations:\n",
    "1. The headline and the content of the main body must fit together and be consistent.\n",
    "2. Re-express the information in the body of the background information, but the names of people, objects, numbers, dates, and behaviour can not be changed.\n",
    "3. The language of the rewritten news should be in English.\n",
    "\n",
    "Output format:\n",
    "\"\"\n",
    "Today's news:\n",
    "Title:\n",
    "[ ]\n",
    "Text:\n",
    "[ ]\n",
    "...\n",
    "\"\"\""
   ]
  },
  {
   "cell_type": "code",
   "execution_count": 28,
   "id": "5f9d0ca5",
   "metadata": {},
   "outputs": [
    {
     "name": "stdout",
     "output_type": "stream",
     "text": [
      "Generating constraints for instruction:\n",
      " Identify one category from the list below for the input text, and also infer the sentiment (positive, neutral, or negative) conveyed in the text. Your options for the category are - company, educational institution, artist, athlete, office holder, mean of transportation, building, natural place, village, animal, plant, album, film, or written work. Michael DenDekker - Michael G. DenDekker (born July 11 1961) is an assemblyman for the state of New York's 34th district which includes the neighborhoods of Woodside, Jackson Heights, and East Elmhurst, all in the borough/county of Queens.\n",
      "\n",
      "Prompt for constraint extraction:\n",
      " \n",
      "    context: I have instruction for LLM to generate response.\n",
      "    Task: Take the instrcution and extract the constraints from it.\n",
      "    Constraints are the additional requirements apart from the main task that the LLM needs to follow while generating the response.\n",
      "    Rules for completing the task:\n",
      "    1. The constraints should be atomic, meaning each constraint should represent a single requirement or condition.\n",
      "    2. The constraints should be extracted from the instruction and should not include any additional information.\n",
      "    ## Input Format:\n",
      "    {\"instruction\": Identify one category from the list below for the input text, and also infer the sentiment (positive, neutral, or negative) conveyed in the text. Your options for the category are - company, educational institution, artist, athlete, office holder, mean of transportation, building, natural place, village, animal, plant, album, film, or written work. Michael DenDekker - Michael G. DenDekker (born July 11 1961) is an assemblyman for the state of New York's 34th district which includes the neighborhoods of Woodside, Jackson Heights, and East Elmhurst, all in the borough/county of Queens.\n",
      "    }\n",
      "    ## Response Format:\n",
      "    You should extract the constraints from the instruction and\n",
      "    return them in a JSON format with the following structure:\n",
      "    { \"constraints\": [<constraint1>, <constraint2>, ...] }\n",
      "    where each <constraint> is a string representing a single atomic constraint.\n",
      "    \n"
     ]
    },
    {
     "name": "stdout",
     "output_type": "stream",
     "text": [
      "\n",
      "generated response:\n",
      " {\n",
      "  \"constraints\": [\n",
      "    \"Identify one category from the given list for the input text\",\n",
      "    \"Infer the sentiment (positive, neutral, or negative) conveyed in the text\",\n",
      "    \"The categories to choose from are: company, educational institution, artist, athlete, office holder, mean of transportation, building, natural place, village, animal, plant, album, film, or written work\",\n",
      "    \"The input text is about Michael DenDekker\"\n",
      "  ]\n",
      "}\n"
     ]
    }
   ],
   "source": [
    "ex2 = generate_constraints(followbench_data.iloc[1][\"instruction\"])"
   ]
  },
  {
   "cell_type": "code",
   "execution_count": 29,
   "id": "c8858706",
   "metadata": {},
   "outputs": [
    {
     "name": "stdout",
     "output_type": "stream",
     "text": [
      "Generating constraints for instruction:\n",
      " Could you please determine the airspeed velocity of an unladen swallow? Present your response by initially stating the bird species and concluding with the velocity figure. Please follow a hierarchical structure, starting with the bird’s Family and Genus before moving to Species and finally the airspeed velocity. \n",
      "\n",
      "Prompt for constraint extraction:\n",
      " \n",
      "    context: I have instruction for LLM to generate response.\n",
      "    Task: Take the instrcution and extract the constraints from it.\n",
      "    Constraints are the additional requirements apart from the main task that the LLM needs to follow while generating the response.\n",
      "    Rules for completing the task:\n",
      "    1. The constraints should be atomic, meaning each constraint should represent a single requirement or condition.\n",
      "    2. The constraints should be extracted from the instruction and should not include any additional information.\n",
      "    ## Input Format:\n",
      "    {\"instruction\": Could you please determine the airspeed velocity of an unladen swallow? Present your response by initially stating the bird species and concluding with the velocity figure. Please follow a hierarchical structure, starting with the bird’s Family and Genus before moving to Species and finally the airspeed velocity. \n",
      "    }\n",
      "    ## Response Format:\n",
      "    You should extract the constraints from the instruction and\n",
      "    return them in a JSON format with the following structure:\n",
      "    { \"constraints\": [<constraint1>, <constraint2>, ...] }\n",
      "    where each <constraint> is a string representing a single atomic constraint.\n",
      "    \n"
     ]
    },
    {
     "name": "stdout",
     "output_type": "stream",
     "text": [
      "\n",
      "generated response:\n",
      " {\n",
      "  \"constraints\": [\n",
      "    \"The response should start with the bird's Family and Genus.\",\n",
      "    \"The response should then specify the bird's Species.\",\n",
      "    \"The response should conclude with the airspeed velocity figure.\",\n",
      "    \"The response should follow a hierarchical structure.\"\n",
      "  ]\n",
      "}\n"
     ]
    }
   ],
   "source": [
    "ex3 = generate_constraints(followbench_data.iloc[400][\"instruction\"])"
   ]
  },
  {
   "cell_type": "markdown",
   "id": "4ffc0e0d",
   "metadata": {},
   "source": [
    "## ComplexBench"
   ]
  },
  {
   "cell_type": "code",
   "execution_count": 30,
   "id": "bcd09e32",
   "metadata": {},
   "outputs": [
    {
     "name": "stdout",
     "output_type": "stream",
     "text": [
      "<class 'pandas.core.frame.DataFrame'>\n",
      "RangeIndex: 1150 entries, 0 to 1149\n",
      "Data columns (total 10 columns):\n",
      " #   Column                 Non-Null Count  Dtype \n",
      "---  ------                 --------------  ----- \n",
      " 0   main_id                1150 non-null   int64 \n",
      " 1   group                  1150 non-null   object\n",
      " 2   idx_in_group           1150 non-null   int64 \n",
      " 3   instruction            1150 non-null   object\n",
      " 4   instruction_en         1150 non-null   object\n",
      " 5   task_types             1150 non-null   object\n",
      " 6   constraint_dimensions  1150 non-null   object\n",
      " 7   composition_types      1150 non-null   object\n",
      " 8   category               1150 non-null   object\n",
      " 9   scoring_questions      1150 non-null   object\n",
      "dtypes: int64(2), object(8)\n",
      "memory usage: 90.0+ KB\n"
     ]
    }
   ],
   "source": [
    "complex_bench.info()"
   ]
  },
  {
   "cell_type": "code",
   "execution_count": 31,
   "id": "936438eb",
   "metadata": {},
   "outputs": [
    {
     "name": "stdout",
     "output_type": "stream",
     "text": [
      "Generating constraints for instruction:\n",
      " Background:\n",
      "\"\"\n",
      "Shending Technology (Nanjing) Co.,Ltd. (hereinafter referred to as \"Shending Technology\") has recently completed a new strategic financing round worth tens of millions of RMB. The investors are Shenzhen Hi-Tech Investment Group and Kunshan Taiwan Business Development Fund. \n",
      "The funds from this round will be allocated towards the expansion of solution development and mass promotion of smart sensing fusion chips.\n",
      "Shending Technology boasts fully independent R&D capabilities in 3D smart sensing fusion technology. Currently, leveraging its extensive productization experience and supply chain integration capabilities, the company's R&D team has developed a 3D smart sensing fusion SoC chip platform based on Smart Fusion technology. This platform meets the unique scenario requirements of mobile robots and retains the comprehensive expandability of mobile robot hardware and offers cost advantages.\n",
      "Regarding future development, a relevant representative from Shending Technology stated: \"At present, Shending Technology has acquired multiple core technologies and patent achievements, and has accumulated technical advantages in sensing fusion, image algorithms, and artificial intelligence. Following this financing, Shending Technology will continue to adhere to innovation-driven development, advancing the smart sensing fusion field, and providing higher-quality solutions and services for the intelligence of perception systems in mobile robots, AR/VR augmented/virtual reality, and autonomous driving.\" \n",
      "\"\"\n",
      "\n",
      "Please rewrite it into English news based on the background information. The news consists of a \"headline\" and a \"body\", and the rewriting takes place in the body part.\n",
      "The \"headline\" should summarise the news. The headline consists of the business and financing, and the purpose of the financing.\n",
      "The \"body\" should describe the enterprise and financing in the first paragraph (including the progress of the financing, the financier, the amount of financing, and the purpose of financing); in the following paragraphs, it describes the enterprise in terms of its name, business, team, speeches, core technology, technology direction, and product progress, and so on.\n",
      "\n",
      "Your news needs to comply with the following regulations:\n",
      "1. The headline and the content of the main body must fit together and be consistent.\n",
      "2. Re-express the information in the body of the background information, but the names of people, objects, numbers, dates, and behaviour can not be changed.\n",
      "3. The language of the rewritten news should be in English.\n",
      "\n",
      "Output format:\n",
      "\"\"\n",
      "Today's news:\n",
      "Title:\n",
      "[ ]\n",
      "Text:\n",
      "[ ]\n",
      "\"\"\n",
      "\n",
      "Prompt for constraint extraction:\n",
      " \n",
      "    context: I have instruction for LLM to generate response.\n",
      "    Task: Take the instrcution and extract the constraints from it.\n",
      "    Constraints are the additional requirements apart from the main task that the LLM needs to follow while generating the response.\n",
      "    Rules for completing the task:\n",
      "    1. The constraints should be atomic, meaning each constraint should represent a single requirement or condition.\n",
      "    2. The constraints should be extracted from the instruction and should not include any additional information.\n",
      "    ## Input Format:\n",
      "    {\"instruction\": Background:\n",
      "\"\"\n",
      "Shending Technology (Nanjing) Co.,Ltd. (hereinafter referred to as \"Shending Technology\") has recently completed a new strategic financing round worth tens of millions of RMB. The investors are Shenzhen Hi-Tech Investment Group and Kunshan Taiwan Business Development Fund. \n",
      "The funds from this round will be allocated towards the expansion of solution development and mass promotion of smart sensing fusion chips.\n",
      "Shending Technology boasts fully independent R&D capabilities in 3D smart sensing fusion technology. Currently, leveraging its extensive productization experience and supply chain integration capabilities, the company's R&D team has developed a 3D smart sensing fusion SoC chip platform based on Smart Fusion technology. This platform meets the unique scenario requirements of mobile robots and retains the comprehensive expandability of mobile robot hardware and offers cost advantages.\n",
      "Regarding future development, a relevant representative from Shending Technology stated: \"At present, Shending Technology has acquired multiple core technologies and patent achievements, and has accumulated technical advantages in sensing fusion, image algorithms, and artificial intelligence. Following this financing, Shending Technology will continue to adhere to innovation-driven development, advancing the smart sensing fusion field, and providing higher-quality solutions and services for the intelligence of perception systems in mobile robots, AR/VR augmented/virtual reality, and autonomous driving.\" \n",
      "\"\"\n",
      "\n",
      "Please rewrite it into English news based on the background information. The news consists of a \"headline\" and a \"body\", and the rewriting takes place in the body part.\n",
      "The \"headline\" should summarise the news. The headline consists of the business and financing, and the purpose of the financing.\n",
      "The \"body\" should describe the enterprise and financing in the first paragraph (including the progress of the financing, the financier, the amount of financing, and the purpose of financing); in the following paragraphs, it describes the enterprise in terms of its name, business, team, speeches, core technology, technology direction, and product progress, and so on.\n",
      "\n",
      "Your news needs to comply with the following regulations:\n",
      "1. The headline and the content of the main body must fit together and be consistent.\n",
      "2. Re-express the information in the body of the background information, but the names of people, objects, numbers, dates, and behaviour can not be changed.\n",
      "3. The language of the rewritten news should be in English.\n",
      "\n",
      "Output format:\n",
      "\"\"\n",
      "Today's news:\n",
      "Title:\n",
      "[ ]\n",
      "Text:\n",
      "[ ]\n",
      "\"\"\n",
      "    }\n",
      "    ## Response Format:\n",
      "    You should extract the constraints from the instruction and\n",
      "    return them in a JSON format with the following structure:\n",
      "    { \"constraints\": [<constraint1>, <constraint2>, ...] }\n",
      "    where each <constraint> is a string representing a single atomic constraint.\n",
      "    \n"
     ]
    },
    {
     "name": "stdout",
     "output_type": "stream",
     "text": [
      "\n",
      "generated response:\n",
      " {\n",
      "  \"constraints\": [\n",
      "    \"Rewrite the given background information into English news format.\",\n",
      "    \"The news should consist of a 'headline' and a 'body'.\",\n",
      "    \"The 'headline' should summarize the news, including the business, financing, and purpose of the financing.\",\n",
      "    \"The 'body' should describe the enterprise and financing in the first paragraph, including financing progress, financier, amount, and purpose.\",\n",
      "    \"Subsequent paragraphs should detail the enterprise's name, business, team, speeches, core technology, technology direction, and product progress.\",\n",
      "    \"Ensure the headline and body content are consistent.\",\n",
      "    \"Re-express information without changing names of people, objects, numbers, dates, or behaviors.\",\n",
      "    \"Use English language for the rewritten news.\"\n",
      "  ]\n",
      "}\n"
     ]
    }
   ],
   "source": [
    "ex1 = generate_constraints(complex_bench.iloc[0][\"instruction_en\"])\n"
   ]
  },
  {
   "cell_type": "code",
   "execution_count": 32,
   "id": "6a318a44",
   "metadata": {},
   "outputs": [
    {
     "name": "stdout",
     "output_type": "stream",
     "text": [
      "Generating constraints for instruction:\n",
      " You are a rapper, help me write a song lyric, with the first line being 'Always can't keep up with the pace.' The overall lyric should be positive and uplifting, containing a small amount of English words. Additionally, the context of the lyrics should be smooth, without any jumps in information or scenes.\n",
      "\n",
      "Prompt for constraint extraction:\n",
      " \n",
      "    context: I have instruction for LLM to generate response.\n",
      "    Task: Take the instrcution and extract the constraints from it.\n",
      "    Constraints are the additional requirements apart from the main task that the LLM needs to follow while generating the response.\n",
      "    Rules for completing the task:\n",
      "    1. The constraints should be atomic, meaning each constraint should represent a single requirement or condition.\n",
      "    2. The constraints should be extracted from the instruction and should not include any additional information.\n",
      "    ## Input Format:\n",
      "    {\"instruction\": You are a rapper, help me write a song lyric, with the first line being 'Always can't keep up with the pace.' The overall lyric should be positive and uplifting, containing a small amount of English words. Additionally, the context of the lyrics should be smooth, without any jumps in information or scenes.\n",
      "    }\n",
      "    ## Response Format:\n",
      "    You should extract the constraints from the instruction and\n",
      "    return them in a JSON format with the following structure:\n",
      "    { \"constraints\": [<constraint1>, <constraint2>, ...] }\n",
      "    where each <constraint> is a string representing a single atomic constraint.\n",
      "    \n"
     ]
    },
    {
     "name": "stdout",
     "output_type": "stream",
     "text": [
      "\n",
      "generated response:\n",
      " {\n",
      "  \"constraints\": [\n",
      "    \"The response should be a song lyric\",\n",
      "    \"The first line of the lyric should be 'Always can't keep up with the pace.'\",\n",
      "    \"The overall tone of the lyric should be positive and uplifting\",\n",
      "    \"The lyric should contain a small amount of English words\",\n",
      "    \"The context of the lyrics should be smooth and coherent\"\n",
      "  ]\n",
      "}\n"
     ]
    }
   ],
   "source": [
    "ex2 = generate_constraints(complex_bench.iloc[1][\"instruction_en\"])"
   ]
  },
  {
   "cell_type": "code",
   "execution_count": 33,
   "id": "e2215096",
   "metadata": {},
   "outputs": [
    {
     "name": "stdout",
     "output_type": "stream",
     "text": [
      "Generating constraints for instruction:\n",
      " Write a novel about Armor Hero, where the protagonist is exceptionally gifted but loses the qualification to become an Armor Hero due to a setup, thus joining the antagonist camp. Requirement: \n",
      "- The novel must simultaneously include punctuation marks {！ ： ~}.\n",
      "\n",
      "Prompt for constraint extraction:\n",
      " \n",
      "    context: I have instruction for LLM to generate response.\n",
      "    Task: Take the instrcution and extract the constraints from it.\n",
      "    Constraints are the additional requirements apart from the main task that the LLM needs to follow while generating the response.\n",
      "    Rules for completing the task:\n",
      "    1. The constraints should be atomic, meaning each constraint should represent a single requirement or condition.\n",
      "    2. The constraints should be extracted from the instruction and should not include any additional information.\n",
      "    ## Input Format:\n",
      "    {\"instruction\": Write a novel about Armor Hero, where the protagonist is exceptionally gifted but loses the qualification to become an Armor Hero due to a setup, thus joining the antagonist camp. Requirement: \n",
      "- The novel must simultaneously include punctuation marks {！ ： ~}.\n",
      "    }\n",
      "    ## Response Format:\n",
      "    You should extract the constraints from the instruction and\n",
      "    return them in a JSON format with the following structure:\n",
      "    { \"constraints\": [<constraint1>, <constraint2>, ...] }\n",
      "    where each <constraint> is a string representing a single atomic constraint.\n",
      "    \n"
     ]
    },
    {
     "name": "stdout",
     "output_type": "stream",
     "text": [
      "\n",
      "generated response:\n",
      " {\n",
      "  \"constraints\": [\n",
      "    \"The novel must include the protagonist who is exceptionally gifted but loses qualification to become an Armor Hero due to a setup.\",\n",
      "    \"The protagonist must join the antagonist camp after losing the qualification.\",\n",
      "    \"The novel must simultaneously include the punctuation marks: '！' and '：' and '~'.\"\n",
      "  ]\n",
      "}\n"
     ]
    }
   ],
   "source": [
    "ex3 = generate_constraints(complex_bench.iloc[500][\"instruction_en\"])"
   ]
  },
  {
   "cell_type": "markdown",
   "id": "c6a4d70c",
   "metadata": {},
   "source": [
    "## For code generation"
   ]
  },
  {
   "cell_type": "code",
   "execution_count": 34,
   "id": "2ff30ad4",
   "metadata": {},
   "outputs": [
    {
     "name": "stdout",
     "output_type": "stream",
     "text": [
      "<class 'pandas.core.frame.DataFrame'>\n",
      "RangeIndex: 60 entries, 0 to 59\n",
      "Data columns (total 16 columns):\n",
      " #   Column                     Non-Null Count  Dtype \n",
      "---  ------                     --------------  ----- \n",
      " 0   dataset                    60 non-null     object\n",
      " 1   instruction                60 non-null     object\n",
      " 2   code                       60 non-null     object\n",
      " 3   test                       20 non-null     object\n",
      " 4   Characteristics            60 non-null     object\n",
      " 5   constraints                60 non-null     object\n",
      " 6   Characteristics_List       60 non-null     object\n",
      " 7   Mapped_Characteristics     60 non-null     object\n",
      " 8   Mapped_Constraints         60 non-null     object\n",
      " 9   Mapped_Characteristics_v2  60 non-null     object\n",
      " 10  Mapped_Constraints_v2      60 non-null     object\n",
      " 11  categories_v1              60 non-null     object\n",
      " 12  categories_v2              60 non-null     object\n",
      " 13  Manual_categories          60 non-null     object\n",
      " 14  LLM_categories             60 non-null     object\n",
      " 15  Final_categories           60 non-null     object\n",
      "dtypes: object(16)\n",
      "memory usage: 7.6+ KB\n"
     ]
    }
   ],
   "source": [
    "df.info()"
   ]
  },
  {
   "cell_type": "code",
   "execution_count": 76,
   "id": "ba4df89a",
   "metadata": {},
   "outputs": [],
   "source": [
    "instrcution = \"\"\"\n",
    " Calculate the distance between two points located in the 3-dimensional space. The points are represented as tuples of three integers. The distance should be rounded to two decimal places. Additionally, the program should also display the angle between the vector components of the resulting distance and the x-axis in degrees, rounded to two decimal places.\n",
    "\n",
    "Example Input:\n",
    "Point 1: (3, 4, 5)\n",
    "Point 2: (2, 6, -1)\n",
    "\n",
    "Example Output:\n",
    "Distance: 2.45\n",
    "Vector components: (1, 2, -6)\n",
    "Angle with x-axis: 32.94 degrees\n",
    "\"\"\""
   ]
  },
  {
   "cell_type": "markdown",
   "id": "ac6476cf",
   "metadata": {},
   "source": [
    "generated response:\n",
    " {\n",
    "  \"constraints\": [\n",
    "    \"The points are represented as tuples of three integers.\",\n",
    "    \"The distance should be calculated in the 3-dimensional space.\",\n",
    "    \"The distance should be rounded to two decimal places.\",\n",
    "    \"The program should display the vector components of the resulting distance.\",\n",
    "    \"The program should also calculate and display the angle between the vector components of the resulting distance and the x-axis.\",\n",
    "    \"The angle should be rounded to two decimal places.\"\n",
    "  ]\n",
    "}"
   ]
  },
  {
   "cell_type": "code",
   "execution_count": null,
   "id": "b562d03c",
   "metadata": {},
   "outputs": [],
   "source": []
  },
  {
   "cell_type": "code",
   "execution_count": 35,
   "id": "7c22be16",
   "metadata": {},
   "outputs": [
    {
     "name": "stdout",
     "output_type": "stream",
     "text": [
      "Generating constraints for instruction:\n",
      " Calculate the distance between two points located in the 3-dimensional space. The points are represented as tuples of three integers. The distance should be rounded to two decimal places. Additionally, the program should also display the angle between the vector components of the resulting distance and the x-axis in degrees, rounded to two decimal places.\n",
      "\n",
      "Example Input:\n",
      "Point 1: (3, 4, 5)\n",
      "Point 2: (2, 6, -1)\n",
      "\n",
      "Example Output:\n",
      "Distance: 2.45\n",
      "Vector components: (1, 2, -6)\n",
      "Angle with x-axis: 32.94 degrees\n",
      "\n",
      "Prompt for constraint extraction:\n",
      " \n",
      "    context: I have instruction for LLM to generate response.\n",
      "    Task: Take the instrcution and extract the constraints from it.\n",
      "    Constraints are the additional requirements apart from the main task that the LLM needs to follow while generating the response.\n",
      "    Rules for completing the task:\n",
      "    1. The constraints should be atomic, meaning each constraint should represent a single requirement or condition.\n",
      "    2. The constraints should be extracted from the instruction and should not include any additional information.\n",
      "    ## Input Format:\n",
      "    {\"instruction\": Calculate the distance between two points located in the 3-dimensional space. The points are represented as tuples of three integers. The distance should be rounded to two decimal places. Additionally, the program should also display the angle between the vector components of the resulting distance and the x-axis in degrees, rounded to two decimal places.\n",
      "\n",
      "Example Input:\n",
      "Point 1: (3, 4, 5)\n",
      "Point 2: (2, 6, -1)\n",
      "\n",
      "Example Output:\n",
      "Distance: 2.45\n",
      "Vector components: (1, 2, -6)\n",
      "Angle with x-axis: 32.94 degrees\n",
      "    }\n",
      "    ## Response Format:\n",
      "    You should extract the constraints from the instruction and\n",
      "    return them in a JSON format with the following structure:\n",
      "    { \"constraints\": [<constraint1>, <constraint2>, ...] }\n",
      "    where each <constraint> is a string representing a single atomic constraint.\n",
      "    \n"
     ]
    },
    {
     "name": "stdout",
     "output_type": "stream",
     "text": [
      "\n",
      "generated response:\n",
      " {\n",
      "  \"constraints\": [\n",
      "    \"The points are represented as tuples of three integers.\",\n",
      "    \"The distance should be calculated in the 3-dimensional space.\",\n",
      "    \"The distance should be rounded to two decimal places.\",\n",
      "    \"The program should display the vector components of the resulting distance.\",\n",
      "    \"The program should also calculate and display the angle between the vector components of the resulting distance and the x-axis.\",\n",
      "    \"The angle should be rounded to two decimal places.\"\n",
      "  ]\n",
      "}\n"
     ]
    }
   ],
   "source": [
    "ex1 = generate_constraints(df.iloc[0][\"instruction\"])"
   ]
  },
  {
   "cell_type": "markdown",
   "id": "1f81e6a8",
   "metadata": {},
   "source": [
    "## Version 2"
   ]
  },
  {
   "cell_type": "code",
   "execution_count": 36,
   "id": "e59e1780",
   "metadata": {},
   "outputs": [],
   "source": [
    "def prompt_extract_constraints_v2(instruction):\n",
    "    prompt = f\"\"\"\n",
    "    context: I have instruction for LLM to generate response.\n",
    "    Task: Take the instrcution and extract the constraints from it.\n",
    "    Rules for completing the task:\n",
    "    1. Extracted constraints should not include core problem to solve, any explanations of the problem or the inputs and input examples.\n",
    "    2. constraints should be atomic, meaning each constraint should represent a single requirement or condition.\n",
    "    3. Split Compound Constraints into Atomic Ones: If any sentence or clause contains multiple distinct constraints, split it into multiple entries, ensuring each extracted constraint refers to exactly one requirement or condition. Do not combine multiple checks (e.g., multiple conditions separated by \"and\" or \"or\" clauses) into one constraint.\n",
    "    4. There should be a clear distinction between the core problem description and the constraints.\n",
    "    5. The core problem description should not be present in the constraints extraction.\n",
    "    ## Input Format:\n",
    "    {{\"instruction\": {instruction}\n",
    "    }}\n",
    "    ## Response Format:\n",
    "    You should extract the constraints from the instruction and\n",
    "    return them in a JSON format with the following structure:\n",
    "    {{ \"constraints\": [<constraint1>, <constraint2>, ...] }}\n",
    "    where each <constraint> is a string representing a single atomic constraint.\n",
    "    \"\"\"\n",
    "    return prompt\n",
    "prompt = prompt_extract_constraints_v2(df.iloc[0][\"instruction\"])"
   ]
  },
  {
   "cell_type": "code",
   "execution_count": 77,
   "id": "b31a54bc",
   "metadata": {},
   "outputs": [
    {
     "name": "stdout",
     "output_type": "stream",
     "text": [
      "Generating constraints for instruction:\n",
      " You are a top student majoring in finance and accounting. Please publish an article in the style of Zhihu about the growth secrets for finance and accounting professionals centered around CPA, ACCA, and other exams. Subtly insert an advertisement for the ACCA exam at the end. The text should be positive, uplifting, and attractive.\n",
      "\n",
      "Prompt for constraint extraction:\n",
      " \n",
      "    context: I have instruction for LLM to generate response.\n",
      "    Task: Take the instrcution and extract the constraints from it.\n",
      "    Rules for completing the task:\n",
      "    1. Extracted constraints should not include core problem to solve, any explanations of the problem or the inputs and input examples.\n",
      "    2. constraints should be atomic, meaning each constraint should represent a single requirement or condition.\n",
      "    3. Split Compound Constraints into Atomic Ones: If any sentence or clause contains multiple distinct constraints, split it into multiple entries, ensuring each extracted constraint refers to exactly one requirement or condition. Do not combine multiple checks (e.g., multiple conditions separated by \"and\" or \"or\" clauses) into one constraint.\n",
      "    4. There should be a clear distinction between the core problem description and the constraints.\n",
      "    5. The core problem description should not be present in the constraints extraction.\n",
      "    ## Input Format:\n",
      "    {\"instruction\": You are a top student majoring in finance and accounting. Please publish an article in the style of Zhihu about the growth secrets for finance and accounting professionals centered around CPA, ACCA, and other exams. Subtly insert an advertisement for the ACCA exam at the end. The text should be positive, uplifting, and attractive.\n",
      "    }\n",
      "    ## Response Format:\n",
      "    You should extract the constraints from the instruction and\n",
      "    return them in a JSON format with the following structure:\n",
      "    { \"constraints\": [<constraint1>, <constraint2>, ...] }\n",
      "    where each <constraint> is a string representing a single atomic constraint.\n",
      "    \n",
      "\n",
      "generated response:\n",
      " {\n",
      "  \"constraints\": [\n",
      "    \"Generate an article in the style of Zhihu.\",\n",
      "    \"Focus on growth secrets for finance and accounting professionals.\",\n",
      "    \"Center the article around CPA and ACCA exams.\",\n",
      "    \"Subtly include an advertisement for the ACCA exam.\",\n",
      "    \"Maintain a positive, uplifting, and attractive tone.\"\n",
      "  ]\n",
      "}\n"
     ]
    }
   ],
   "source": [
    "ex3 = generate_constraints(complex_bench.iloc[5][\"instruction_en\"], prompt_function=prompt_extract_constraints_v2)"
   ]
  },
  {
   "cell_type": "code",
   "execution_count": null,
   "id": "a17d6999",
   "metadata": {},
   "outputs": [],
   "source": [
    "instruction = \"\"\"\n",
    " Now you are Archduke Ferdinand. After fully understanding the experiences and personality of this character, use a rigorous and formal language style but with an impatient tone, and use the style of European and American translation language, to answer my question. My question is: Why do you advocate the annexation of the Kingdom of Serbia? Then, based on the emotional inclination of your answer, ask me a question related to the social environment of the Austro-Hungarian Empire at the time. You need to always play the designated character, and your answers should align with the given setting.\n",
    "\"\"\""
   ]
  },
  {
   "cell_type": "markdown",
   "id": "8723755f",
   "metadata": {},
   "source": [
    "generated response:\n",
    " {\n",
    "  \"constraints\": [\n",
    "    \"Generate response as Archduke Ferdinand\",\n",
    "    \"Use rigorous and formal language style\",\n",
    "    \"Maintain an impatient tone\",\n",
    "    \"Use the style of European and American translation language\",\n",
    "    \"Answer the question: 'Why do you advocate the annexation of the Kingdom of Serbia?'\",\n",
    "    \"Align response with the given character setting\",\n",
    "    \"Ask a question related to the social environment of the Austro-Hungarian Empire based on the emotional inclination of the answer\",\n",
    "    \"Always play the designated character\",\n",
    "    \"Ensure answers align with the given setting\"\n",
    "  ]\n",
    "}"
   ]
  },
  {
   "cell_type": "code",
   "execution_count": 78,
   "id": "e1e80367",
   "metadata": {},
   "outputs": [
    {
     "name": "stdout",
     "output_type": "stream",
     "text": [
      "Generating constraints for instruction:\n",
      " Now you are Archduke Ferdinand. After fully understanding the experiences and personality of this character, use a rigorous and formal language style but with an impatient tone, and use the style of European and American translation language, to answer my question. My question is: Why do you advocate the annexation of the Kingdom of Serbia? Then, based on the emotional inclination of your answer, ask me a question related to the social environment of the Austro-Hungarian Empire at the time. You need to always play the designated character, and your answers should align with the given setting.\n",
      "\n",
      "Prompt for constraint extraction:\n",
      " \n",
      "    context: I have instruction for LLM to generate response.\n",
      "    Task: Take the instrcution and extract the constraints from it.\n",
      "    Rules for completing the task:\n",
      "    1. Extracted constraints should not include core problem to solve, any explanations of the problem or the inputs and input examples.\n",
      "    2. constraints should be atomic, meaning each constraint should represent a single requirement or condition.\n",
      "    3. Split Compound Constraints into Atomic Ones: If any sentence or clause contains multiple distinct constraints, split it into multiple entries, ensuring each extracted constraint refers to exactly one requirement or condition. Do not combine multiple checks (e.g., multiple conditions separated by \"and\" or \"or\" clauses) into one constraint.\n",
      "    4. There should be a clear distinction between the core problem description and the constraints.\n",
      "    5. The core problem description should not be present in the constraints extraction.\n",
      "    ## Input Format:\n",
      "    {\"instruction\": Now you are Archduke Ferdinand. After fully understanding the experiences and personality of this character, use a rigorous and formal language style but with an impatient tone, and use the style of European and American translation language, to answer my question. My question is: Why do you advocate the annexation of the Kingdom of Serbia? Then, based on the emotional inclination of your answer, ask me a question related to the social environment of the Austro-Hungarian Empire at the time. You need to always play the designated character, and your answers should align with the given setting.\n",
      "    }\n",
      "    ## Response Format:\n",
      "    You should extract the constraints from the instruction and\n",
      "    return them in a JSON format with the following structure:\n",
      "    { \"constraints\": [<constraint1>, <constraint2>, ...] }\n",
      "    where each <constraint> is a string representing a single atomic constraint.\n",
      "    \n",
      "\n",
      "generated response:\n",
      " {\n",
      "  \"constraints\": [\n",
      "    \"Generate response as Archduke Ferdinand\",\n",
      "    \"Use rigorous and formal language style\",\n",
      "    \"Maintain an impatient tone\",\n",
      "    \"Use the style of European and American translation language\",\n",
      "    \"Answer the question: 'Why do you advocate the annexation of the Kingdom of Serbia?'\",\n",
      "    \"Align response with the given character setting\",\n",
      "    \"Ask a question related to the social environment of the Austro-Hungarian Empire based on the emotional inclination of the answer\",\n",
      "    \"Always play the designated character\",\n",
      "    \"Ensure answers align with the given setting\"\n",
      "  ]\n",
      "}\n"
     ]
    }
   ],
   "source": [
    "ex3 = generate_constraints(complex_bench.iloc[15][\"instruction_en\"], prompt_function=prompt_extract_constraints_v2)"
   ]
  },
  {
   "cell_type": "code",
   "execution_count": 37,
   "id": "fe314aad",
   "metadata": {},
   "outputs": [
    {
     "name": "stdout",
     "output_type": "stream",
     "text": [
      "Generating constraints for instruction:\n",
      " Calculate the distance between two points located in the 3-dimensional space. The points are represented as tuples of three integers. The distance should be rounded to two decimal places. Additionally, the program should also display the angle between the vector components of the resulting distance and the x-axis in degrees, rounded to two decimal places.\n",
      "\n",
      "Example Input:\n",
      "Point 1: (3, 4, 5)\n",
      "Point 2: (2, 6, -1)\n",
      "\n",
      "Example Output:\n",
      "Distance: 2.45\n",
      "Vector components: (1, 2, -6)\n",
      "Angle with x-axis: 32.94 degrees\n",
      "\n",
      "Prompt for constraint extraction:\n",
      " \n",
      "    context: I have instruction for LLM to generate response.\n",
      "    Task: Take the instrcution and extract the constraints from it.\n",
      "    Rules for completing the task:\n",
      "    1. Extracted constraints should not include core problem to solve, any explanations of the problem or the inputs and input examples.\n",
      "    2. constraints should be atomic, meaning each constraint should represent a single requirement or condition.\n",
      "    3. Split Compound Constraints into Atomic Ones: If any sentence or clause contains multiple distinct constraints, split it into multiple entries, ensuring each extracted constraint refers to exactly one requirement or condition. Do not combine multiple checks (e.g., multiple conditions separated by \"and\" or \"or\" clauses) into one constraint.\n",
      "    4. There should be a clear distinction between the core problem description and the constraints.\n",
      "    5. The core problem description should not be present in the constraints extraction.\n",
      "    ## Input Format:\n",
      "    {\"instruction\": Calculate the distance between two points located in the 3-dimensional space. The points are represented as tuples of three integers. The distance should be rounded to two decimal places. Additionally, the program should also display the angle between the vector components of the resulting distance and the x-axis in degrees, rounded to two decimal places.\n",
      "\n",
      "Example Input:\n",
      "Point 1: (3, 4, 5)\n",
      "Point 2: (2, 6, -1)\n",
      "\n",
      "Example Output:\n",
      "Distance: 2.45\n",
      "Vector components: (1, 2, -6)\n",
      "Angle with x-axis: 32.94 degrees\n",
      "    }\n",
      "    ## Response Format:\n",
      "    You should extract the constraints from the instruction and\n",
      "    return them in a JSON format with the following structure:\n",
      "    { \"constraints\": [<constraint1>, <constraint2>, ...] }\n",
      "    where each <constraint> is a string representing a single atomic constraint.\n",
      "    \n"
     ]
    },
    {
     "name": "stdout",
     "output_type": "stream",
     "text": [
      "\n",
      "generated response:\n",
      " {\n",
      "  \"constraints\": [\n",
      "    \"The program should calculate the distance between two points in 3-dimensional space.\",\n",
      "    \"The points are to be represented as tuples of three integers.\",\n",
      "    \"The calculated distance should be rounded to two decimal places.\",\n",
      "    \"The program should also determine the vector components of the distance.\",\n",
      "    \"The program should calculate the angle between the vector components of the distance and the x-axis.\",\n",
      "    \"The angle should be rounded to two decimal places and displayed in degrees.\"\n",
      "  ]\n",
      "}\n"
     ]
    }
   ],
   "source": [
    "ex1 = generate_constraints(df.iloc[0][\"instruction\"],prompt_function=prompt_extract_constraints_v2)\n"
   ]
  },
  {
   "cell_type": "markdown",
   "id": "042e5e64",
   "metadata": {},
   "source": [
    "generated response:\n",
    " {\n",
    "  \"constraints\": [\n",
    "    \"The program should calculate the distance between two points in 3-dimensional space.\",\n",
    "    \"The points are to be represented as tuples of three integers.\",\n",
    "    \"The calculated distance should be rounded to two decimal places.\",\n",
    "    \"The program should also determine the vector components of the distance.\",\n",
    "    \"The program should calculate the angle between the vector components of the distance and the x-axis.\",\n",
    "    \"The angle should be rounded to two decimal places and displayed in degrees.\"\n",
    "  ]\n",
    "}"
   ]
  },
  {
   "cell_type": "code",
   "execution_count": null,
   "id": "8821d202",
   "metadata": {},
   "outputs": [],
   "source": []
  },
  {
   "cell_type": "code",
   "execution_count": 38,
   "id": "dd96a95b",
   "metadata": {},
   "outputs": [
    {
     "name": "stdout",
     "output_type": "stream",
     "text": [
      "Generating constraints for instruction:\n",
      " Calculate the distance between two points located in the 3-dimensional space. The points are represented as tuples of three integers. The distance should be rounded to two decimal places. Additionally, the program should also display the angle between the vector components of the resulting distance and the x-axis in degrees, rounded to two decimal places.\n",
      "\n",
      "Example Input:\n",
      "Point 1: (3, 4, 5)\n",
      "Point 2: (2, 6, -1)\n",
      "\n",
      "Example Output:\n",
      "Distance: 2.45\n",
      "Vector components: (1, 2, -6)\n",
      "Angle with x-axis: 32.94 degrees\n",
      "\n",
      "Prompt for constraint extraction:\n",
      " \n",
      "    context: I have instruction for LLM to generate response.\n",
      "    Task: Take the instrcution and extract the constraints from it.\n",
      "    Constraints are the additional requirements apart from the main task that the LLM needs to follow while generating the response.\n",
      "    Rules for completing the task:\n",
      "    1. The constraints should be atomic, meaning each constraint should represent a single requirement or condition.\n",
      "    2. The constraints should be extracted from the instruction and should not include any additional information.\n",
      "    ## Input Format:\n",
      "    {\"instruction\": Calculate the distance between two points located in the 3-dimensional space. The points are represented as tuples of three integers. The distance should be rounded to two decimal places. Additionally, the program should also display the angle between the vector components of the resulting distance and the x-axis in degrees, rounded to two decimal places.\n",
      "\n",
      "Example Input:\n",
      "Point 1: (3, 4, 5)\n",
      "Point 2: (2, 6, -1)\n",
      "\n",
      "Example Output:\n",
      "Distance: 2.45\n",
      "Vector components: (1, 2, -6)\n",
      "Angle with x-axis: 32.94 degrees\n",
      "    }\n",
      "    ## Response Format:\n",
      "    You should extract the constraints from the instruction and\n",
      "    return them in a JSON format with the following structure:\n",
      "    { \"constraints\": [<constraint1>, <constraint2>, ...] }\n",
      "    where each <constraint> is a string representing a single atomic constraint.\n",
      "    \n"
     ]
    },
    {
     "name": "stdout",
     "output_type": "stream",
     "text": [
      "\n",
      "generated response:\n",
      " {\n",
      "  \"constraints\": [\n",
      "    \"The points are represented as tuples of three integers.\",\n",
      "    \"The distance should be calculated in the 3-dimensional space.\",\n",
      "    \"The distance should be rounded to two decimal places.\",\n",
      "    \"The program should display the vector components of the resulting distance.\",\n",
      "    \"The program should also calculate and display the angle between the vector components of the resulting distance and the x-axis.\",\n",
      "    \"The angle should be rounded to two decimal places.\"\n",
      "  ]\n",
      "}\n"
     ]
    }
   ],
   "source": [
    "ex1 = generate_constraints(df.iloc[0][\"instruction\"],prompt_function=prompt_extract_constraints)\n"
   ]
  },
  {
   "cell_type": "markdown",
   "id": "d814d85b",
   "metadata": {},
   "source": [
    "generated response:\n",
    " {\n",
    "  \"constraints\": [\n",
    "    \"Identify one category from the provided list\",\n",
    "    \"Infer the sentiment (positive, neutral, or negative) conveyed in the text\",\n",
    "    \"Category options: company, educational institution, artist, athlete, office holder, mean of transportation, building, natural place, village, animal, plant, album, film, or written work\",\n",
    "    \"Input text refers to: Michael DenDekker\",\n",
    "    \"Michael DenDekker's role: assemblyman for the state of New York's 34th district\",\n",
    "    \"Neighborhoods included in district 34: Woodside, Jackson Heights, East Elmhurst\",\n",
    "    \"Borough/county of district 34: Queens\",\n",
    "    \"Date of birth: July 11, 1961\"\n",
    "  ]\n",
    "}"
   ]
  },
  {
   "cell_type": "code",
   "execution_count": null,
   "id": "78af8b07",
   "metadata": {},
   "outputs": [],
   "source": []
  },
  {
   "cell_type": "code",
   "execution_count": null,
   "id": "a806910d",
   "metadata": {},
   "outputs": [],
   "source": []
  },
  {
   "cell_type": "code",
   "execution_count": 39,
   "id": "d6bf0efb",
   "metadata": {},
   "outputs": [
    {
     "name": "stdout",
     "output_type": "stream",
     "text": [
      "Generating constraints for instruction:\n",
      " Identify one category from the list below for the input text, and also infer the sentiment (positive, neutral, or negative) conveyed in the text. Your options for the category are - company, educational institution, artist, athlete, office holder, mean of transportation, building, natural place, village, animal, plant, album, film, or written work. Michael DenDekker - Michael G. DenDekker (born July 11 1961) is an assemblyman for the state of New York's 34th district which includes the neighborhoods of Woodside, Jackson Heights, and East Elmhurst, all in the borough/county of Queens.\n",
      "\n",
      "Prompt for constraint extraction:\n",
      " \n",
      "    context: I have instruction for LLM to generate response.\n",
      "    Task: Take the instrcution and extract the constraints from it.\n",
      "    Rules for completing the task:\n",
      "    1. Extracted constraints should not include core problem to solve, any explanations of the problem or the inputs and input examples.\n",
      "    2. constraints should be atomic, meaning each constraint should represent a single requirement or condition.\n",
      "    3. Split Compound Constraints into Atomic Ones: If any sentence or clause contains multiple distinct constraints, split it into multiple entries, ensuring each extracted constraint refers to exactly one requirement or condition. Do not combine multiple checks (e.g., multiple conditions separated by \"and\" or \"or\" clauses) into one constraint.\n",
      "    4. There should be a clear distinction between the core problem description and the constraints.\n",
      "    5. The core problem description should not be present in the constraints extraction.\n",
      "    ## Input Format:\n",
      "    {\"instruction\": Identify one category from the list below for the input text, and also infer the sentiment (positive, neutral, or negative) conveyed in the text. Your options for the category are - company, educational institution, artist, athlete, office holder, mean of transportation, building, natural place, village, animal, plant, album, film, or written work. Michael DenDekker - Michael G. DenDekker (born July 11 1961) is an assemblyman for the state of New York's 34th district which includes the neighborhoods of Woodside, Jackson Heights, and East Elmhurst, all in the borough/county of Queens.\n",
      "    }\n",
      "    ## Response Format:\n",
      "    You should extract the constraints from the instruction and\n",
      "    return them in a JSON format with the following structure:\n",
      "    { \"constraints\": [<constraint1>, <constraint2>, ...] }\n",
      "    where each <constraint> is a string representing a single atomic constraint.\n",
      "    \n"
     ]
    },
    {
     "name": "stdout",
     "output_type": "stream",
     "text": [
      "\n",
      "generated response:\n",
      " {\n",
      "  \"constraints\": [\n",
      "    \"Identify one category from the provided list\",\n",
      "    \"Infer the sentiment (positive, neutral, or negative) conveyed in the text\",\n",
      "    \"Category options: company, educational institution, artist, athlete, office holder, mean of transportation, building, natural place, village, animal, plant, album, film, or written work\",\n",
      "    \"Input text refers to: Michael DenDekker\",\n",
      "    \"Michael DenDekker's role: assemblyman for the state of New York's 34th district\",\n",
      "    \"Neighborhoods included in district 34: Woodside, Jackson Heights, East Elmhurst\",\n",
      "    \"Borough/county of district 34: Queens\",\n",
      "    \"Date of birth: July 11, 1961\"\n",
      "  ]\n",
      "}\n"
     ]
    }
   ],
   "source": [
    "ex2 = generate_constraints(followbench_data.iloc[1][\"instruction\"],prompt_function=prompt_extract_constraints_v2)"
   ]
  },
  {
   "cell_type": "code",
   "execution_count": 40,
   "id": "bf5c5505",
   "metadata": {},
   "outputs": [
    {
     "name": "stdout",
     "output_type": "stream",
     "text": [
      "Generating constraints for instruction:\n",
      " Background:\n",
      "\"\"\n",
      "Shending Technology (Nanjing) Co.,Ltd. (hereinafter referred to as \"Shending Technology\") has recently completed a new strategic financing round worth tens of millions of RMB. The investors are Shenzhen Hi-Tech Investment Group and Kunshan Taiwan Business Development Fund. \n",
      "The funds from this round will be allocated towards the expansion of solution development and mass promotion of smart sensing fusion chips.\n",
      "Shending Technology boasts fully independent R&D capabilities in 3D smart sensing fusion technology. Currently, leveraging its extensive productization experience and supply chain integration capabilities, the company's R&D team has developed a 3D smart sensing fusion SoC chip platform based on Smart Fusion technology. This platform meets the unique scenario requirements of mobile robots and retains the comprehensive expandability of mobile robot hardware and offers cost advantages.\n",
      "Regarding future development, a relevant representative from Shending Technology stated: \"At present, Shending Technology has acquired multiple core technologies and patent achievements, and has accumulated technical advantages in sensing fusion, image algorithms, and artificial intelligence. Following this financing, Shending Technology will continue to adhere to innovation-driven development, advancing the smart sensing fusion field, and providing higher-quality solutions and services for the intelligence of perception systems in mobile robots, AR/VR augmented/virtual reality, and autonomous driving.\" \n",
      "\"\"\n",
      "\n",
      "Please rewrite it into English news based on the background information. The news consists of a \"headline\" and a \"body\", and the rewriting takes place in the body part.\n",
      "The \"headline\" should summarise the news. The headline consists of the business and financing, and the purpose of the financing.\n",
      "The \"body\" should describe the enterprise and financing in the first paragraph (including the progress of the financing, the financier, the amount of financing, and the purpose of financing); in the following paragraphs, it describes the enterprise in terms of its name, business, team, speeches, core technology, technology direction, and product progress, and so on.\n",
      "\n",
      "Your news needs to comply with the following regulations:\n",
      "1. The headline and the content of the main body must fit together and be consistent.\n",
      "2. Re-express the information in the body of the background information, but the names of people, objects, numbers, dates, and behaviour can not be changed.\n",
      "3. The language of the rewritten news should be in English.\n",
      "\n",
      "Output format:\n",
      "\"\"\n",
      "Today's news:\n",
      "Title:\n",
      "[ ]\n",
      "Text:\n",
      "[ ]\n",
      "\"\"\n",
      "\n",
      "Prompt for constraint extraction:\n",
      " \n",
      "    context: I have instruction for LLM to generate response.\n",
      "    Task: Take the instrcution and extract the constraints from it.\n",
      "    Rules for completing the task:\n",
      "    1. Extracted constraints should not include core problem to solve, any explanations of the problem or the inputs and input examples.\n",
      "    2. constraints should be atomic, meaning each constraint should represent a single requirement or condition.\n",
      "    3. Split Compound Constraints into Atomic Ones: If any sentence or clause contains multiple distinct constraints, split it into multiple entries, ensuring each extracted constraint refers to exactly one requirement or condition. Do not combine multiple checks (e.g., multiple conditions separated by \"and\" or \"or\" clauses) into one constraint.\n",
      "    4. There should be a clear distinction between the core problem description and the constraints.\n",
      "    5. The core problem description should not be present in the constraints extraction.\n",
      "    ## Input Format:\n",
      "    {\"instruction\": Background:\n",
      "\"\"\n",
      "Shending Technology (Nanjing) Co.,Ltd. (hereinafter referred to as \"Shending Technology\") has recently completed a new strategic financing round worth tens of millions of RMB. The investors are Shenzhen Hi-Tech Investment Group and Kunshan Taiwan Business Development Fund. \n",
      "The funds from this round will be allocated towards the expansion of solution development and mass promotion of smart sensing fusion chips.\n",
      "Shending Technology boasts fully independent R&D capabilities in 3D smart sensing fusion technology. Currently, leveraging its extensive productization experience and supply chain integration capabilities, the company's R&D team has developed a 3D smart sensing fusion SoC chip platform based on Smart Fusion technology. This platform meets the unique scenario requirements of mobile robots and retains the comprehensive expandability of mobile robot hardware and offers cost advantages.\n",
      "Regarding future development, a relevant representative from Shending Technology stated: \"At present, Shending Technology has acquired multiple core technologies and patent achievements, and has accumulated technical advantages in sensing fusion, image algorithms, and artificial intelligence. Following this financing, Shending Technology will continue to adhere to innovation-driven development, advancing the smart sensing fusion field, and providing higher-quality solutions and services for the intelligence of perception systems in mobile robots, AR/VR augmented/virtual reality, and autonomous driving.\" \n",
      "\"\"\n",
      "\n",
      "Please rewrite it into English news based on the background information. The news consists of a \"headline\" and a \"body\", and the rewriting takes place in the body part.\n",
      "The \"headline\" should summarise the news. The headline consists of the business and financing, and the purpose of the financing.\n",
      "The \"body\" should describe the enterprise and financing in the first paragraph (including the progress of the financing, the financier, the amount of financing, and the purpose of financing); in the following paragraphs, it describes the enterprise in terms of its name, business, team, speeches, core technology, technology direction, and product progress, and so on.\n",
      "\n",
      "Your news needs to comply with the following regulations:\n",
      "1. The headline and the content of the main body must fit together and be consistent.\n",
      "2. Re-express the information in the body of the background information, but the names of people, objects, numbers, dates, and behaviour can not be changed.\n",
      "3. The language of the rewritten news should be in English.\n",
      "\n",
      "Output format:\n",
      "\"\"\n",
      "Today's news:\n",
      "Title:\n",
      "[ ]\n",
      "Text:\n",
      "[ ]\n",
      "\"\"\n",
      "    }\n",
      "    ## Response Format:\n",
      "    You should extract the constraints from the instruction and\n",
      "    return them in a JSON format with the following structure:\n",
      "    { \"constraints\": [<constraint1>, <constraint2>, ...] }\n",
      "    where each <constraint> is a string representing a single atomic constraint.\n",
      "    \n"
     ]
    },
    {
     "name": "stdout",
     "output_type": "stream",
     "text": [
      "\n",
      "generated response:\n",
      " {\n",
      "  \"constraints\": [\n",
      "    \"The news must consist of a 'headline' and a 'body'.\",\n",
      "    \"The 'headline' should summarize the news, including the business, financing, and purpose of the financing.\",\n",
      "    \"The 'body' should describe the enterprise and financing in the first paragraph, including financing progress, financier, amount, and purpose.\",\n",
      "    \"Subsequent paragraphs should detail the enterprise's name, business, team, speeches, core technology, technology direction, and product progress.\",\n",
      "    \"The headline and content of the main body must be consistent.\",\n",
      "    \"Information in the body of the background should be re-expressed but unchanged in terms of names, objects, numbers, dates, and behaviors.\",\n",
      "    \"The language of the rewritten news must be English.\"\n",
      "  ]\n",
      "}\n"
     ]
    }
   ],
   "source": [
    "ex3 = generate_constraints(complex_bench.iloc[0][\"instruction_en\"],prompt_function=prompt_extract_constraints_v2)"
   ]
  },
  {
   "cell_type": "markdown",
   "id": "b10f44a2",
   "metadata": {},
   "source": [
    "## Version 3 "
   ]
  },
  {
   "cell_type": "code",
   "execution_count": 89,
   "id": "a72d7d13",
   "metadata": {},
   "outputs": [],
   "source": [
    "def prompt_extract_constraints_v3(instruction):\n",
    "    prompt = f\"\"\"\n",
    "    context: You are given an instruction for a code generation task.\n",
    "    Your Role:\n",
    "    Extract only implementation constraints from the instruction.\n",
    "    ## DO NOT:\n",
    "    - DO NOT include the core problem to be solved.\n",
    "    - DO NOT include problem description, input/output formats, examples, or explanations.\n",
    "    - DO NOT include data representation details (e.g., “tuples of three integers”).\n",
    "    - DO NOT include what to compute (e.g., “calculate the distance”).\n",
    "    - DO NOT create constraints that are not explicitly mentioned in the instruction.\n",
    "    ## DO:\n",
    "    - Only extract implementation-specific requirements that constrain how the solution must be written or how results must be presented.\n",
    "    - Split any compound constraints into atomic constraints.\n",
    "    ## Input:\n",
    "    {{\n",
    "    \"instruction\": \"{instruction}\"\n",
    "    }}\n",
    "    ## Output Format:\n",
    "    Return constraints as a JSON object in this format:\n",
    "    {{\n",
    "      \"constraints\": [\n",
    "        \"<atomic constraint 1>\",\n",
    "        \"<atomic constraint 2>\",\n",
    "        ...\n",
    "      ]\n",
    "    }}\n",
    "    Only return the JSON. Do not explain your reasoning or repeat the instruction.\n",
    "    \"\"\"\n",
    "    return prompt\n"
   ]
  },
  {
   "cell_type": "code",
   "execution_count": 91,
   "id": "7f6036a8",
   "metadata": {},
   "outputs": [
    {
     "name": "stdout",
     "output_type": "stream",
     "text": [
      "Generating constraints for instruction:\n",
      " Calculate the distance between two points located in the 3-dimensional space. The points are represented as tuples of three integers. The distance should be rounded to two decimal places. Additionally, the program should also display the angle between the vector components of the resulting distance and the x-axis in degrees, rounded to two decimal places.\n",
      "\n",
      "Example Input:\n",
      "Point 1: (3, 4, 5)\n",
      "Point 2: (2, 6, -1)\n",
      "\n",
      "Example Output:\n",
      "Distance: 2.45\n",
      "Vector components: (1, 2, -6)\n",
      "Angle with x-axis: 32.94 degrees\n",
      "\n",
      "Prompt for constraint extraction:\n",
      " \n",
      "    context: You are given an instruction for a code generation task.\n",
      "    Your Role:\n",
      "    Extract only implementation constraints from the instruction.\n",
      "    ## DO NOT:\n",
      "    - DO NOT include the core problem to be solved.\n",
      "    - DO NOT include problem description, input/output formats, examples, or explanations.\n",
      "    - DO NOT include data representation details (e.g., “tuples of three integers”).\n",
      "    - DO NOT include what to compute (e.g., “calculate the distance”).\n",
      "    - DO NOT create constraints that are not explicitly mentioned in the instruction.\n",
      "    ## DO:\n",
      "    - Only extract implementation-specific requirements that constrain how the solution must be written or how results must be presented.\n",
      "    - Split any compound constraints into atomic constraints.\n",
      "    ## Input:\n",
      "    {\n",
      "    \"instruction\": \"Calculate the distance between two points located in the 3-dimensional space. The points are represented as tuples of three integers. The distance should be rounded to two decimal places. Additionally, the program should also display the angle between the vector components of the resulting distance and the x-axis in degrees, rounded to two decimal places.\n",
      "\n",
      "Example Input:\n",
      "Point 1: (3, 4, 5)\n",
      "Point 2: (2, 6, -1)\n",
      "\n",
      "Example Output:\n",
      "Distance: 2.45\n",
      "Vector components: (1, 2, -6)\n",
      "Angle with x-axis: 32.94 degrees\"\n",
      "    }\n",
      "    ## Output Format:\n",
      "    Return constraints as a JSON object in this format:\n",
      "    {\n",
      "      \"constraints\": [\n",
      "        \"<atomic constraint 1>\",\n",
      "        \"<atomic constraint 2>\",\n",
      "        ...\n",
      "      ]\n",
      "    }\n",
      "    Only return the JSON. Do not explain your reasoning or repeat the instruction.\n",
      "    \n",
      "\n",
      "generated response:\n",
      " {\n",
      "  \"constraints\": [\n",
      "    \"The distance between two points in 3D space must be calculated.\",\n",
      "    \"Points are represented as tuples of three integers.\",\n",
      "    \"The distance must be rounded to two decimal places.\",\n",
      "    \"The program must display the vector components of the distance.\",\n",
      "    \"The angle between the vector components of the distance and the x-axis must be calculated and displayed, rounded to two decimal places.\"\n",
      "  ]\n",
      "}\n"
     ]
    }
   ],
   "source": [
    "ex1 = generate_constraints(df.iloc[0][\"instruction\"], prompt_function=prompt_extract_constraints_v3)"
   ]
  },
  {
   "cell_type": "markdown",
   "id": "ca09f178",
   "metadata": {},
   "source": [
    "generated response:\n",
    " {\n",
    "  \"constraints\": [\n",
    "    \"The points are represented as tuples of three integers.\",\n",
    "    \"The distance should be rounded to two decimal places.\",\n",
    "    \"The program should display the angle between the vector components of the resulting distance and the x-axis in degrees, rounded to two decimal places.\"\n",
    "  ]\n",
    "}"
   ]
  },
  {
   "cell_type": "code",
   "execution_count": null,
   "id": "276c5e82",
   "metadata": {},
   "outputs": [
    {
     "name": "stdout",
     "output_type": "stream",
     "text": [
      "Generating constraints for instruction:\n",
      " Calculate the distance between two points located in the 3-dimensional space. The points are represented as tuples of three integers. The distance should be rounded to two decimal places. Additionally, the program should also display the angle between the vector components of the resulting distance and the x-axis in degrees, rounded to two decimal places.\n",
      "\n",
      "Example Input:\n",
      "Point 1: (3, 4, 5)\n",
      "Point 2: (2, 6, -1)\n",
      "\n",
      "Example Output:\n",
      "Distance: 2.45\n",
      "Vector components: (1, 2, -6)\n",
      "Angle with x-axis: 32.94 degrees\n",
      "\n",
      "Prompt for constraint extraction:\n",
      " \n",
      "    context: You are given an instruction for a code generation task.\n",
      "    Your Role:\n",
      "    Extract only implementation constraints from the instruction.\n",
      "    ## DO NOT:\n",
      "    - DO NOT include the core problem to be solved.\n",
      "    - DO NOT include problem description, input/output formats, examples, or explanations.\n",
      "    - DO NOT include data representation details (e.g., “tuples of three integers”).\n",
      "    - DO NOT include what to compute (e.g., “calculate the distance”).\n",
      "    - DO NOT create constraints that are not explicitly mentioned in the instruction.\n",
      "    ## DO:\n",
      "    - Only extract implementation-specific requirements that constrain how the solution must be written or how results must be presented.\n",
      "    - Split any compound constraints into atomic constraints.\n",
      "    ## Input:\n",
      "    {\n",
      "    \"instruction\": \"Calculate the distance between two points located in the 3-dimensional space. The points are represented as tuples of three integers. The distance should be rounded to two decimal places. Additionally, the program should also display the angle between the vector components of the resulting distance and the x-axis in degrees, rounded to two decimal places.\n",
      "\n",
      "Example Input:\n",
      "Point 1: (3, 4, 5)\n",
      "Point 2: (2, 6, -1)\n",
      "\n",
      "Example Output:\n",
      "Distance: 2.45\n",
      "Vector components: (1, 2, -6)\n",
      "Angle with x-axis: 32.94 degrees\"\n",
      "    }\n",
      "    ## Output Format:\n",
      "    Return constraints as a JSON object in this format:\n",
      "    {\n",
      "      \"constraints\": [\n",
      "        \"<atomic constraint 1>\",\n",
      "        \"<atomic constraint 2>\",\n",
      "        ...\n",
      "      ]\n",
      "    }\n",
      "    Only return the JSON. Do not explain your reasoning or repeat the instruction.\n",
      "    \n",
      "\n",
      "generated response:\n",
      " {\n",
      "  \"constraints\": [\n",
      "    \"The points are represented as tuples of three integers.\",\n",
      "    \"The distance should be rounded to two decimal places.\",\n",
      "    \"The program should display the angle between the vector components of the resulting distance and the x-axis in degrees, rounded to two decimal places.\"\n",
      "  ]\n",
      "}\n"
     ]
    }
   ],
   "source": [
    "ex1 = generate_constraints(df.iloc[0][\"instruction\"], prompt_function=prompt_extract_constraints_v3)"
   ]
  },
  {
   "cell_type": "markdown",
   "id": "dc886715",
   "metadata": {},
   "source": [
    "generated response:\n",
    " {\n",
    "  \"constraints\": [\n",
    "    \"The distance between two points in 3D space must be calculated.\",\n",
    "    \"Points are represented as tuples of three integers.\",\n",
    "    \"The distance must be rounded to two decimal places.\",\n",
    "    \"The program must display the vector components of the distance.\",\n",
    "    \"The angle between the vector components of the distance and the x-axis must be calculated and displayed, rounded to two decimal places.\"\n",
    "  ]\n",
    "}"
   ]
  },
  {
   "cell_type": "code",
   "execution_count": 98,
   "id": "70454a69",
   "metadata": {},
   "outputs": [
    {
     "name": "stdout",
     "output_type": "stream",
     "text": [
      "Generating constraints for instruction:\n",
      " Calculate the distance between two points located in the 3-dimensional space. The points are represented as tuples of three integers. The distance should be rounded to two decimal places. Additionally, the program should also display the angle between the vector components of the resulting distance and the x-axis in degrees, rounded to two decimal places.\n",
      "\n",
      "Example Input:\n",
      "Point 1: (3, 4, 5)\n",
      "Point 2: (2, 6, -1)\n",
      "\n",
      "Example Output:\n",
      "Distance: 2.45\n",
      "Vector components: (1, 2, -6)\n",
      "Angle with x-axis: 32.94 degrees\n"
     ]
    },
    {
     "name": "stdout",
     "output_type": "stream",
     "text": [
      "\n",
      "generated response:\n",
      " {\n",
      "  \"constraints\": [\n",
      "    \"The distance between two points in 3D space must be calculated.\",\n",
      "    \"Points are represented as tuples of three integers.\",\n",
      "    \"The distance must be rounded to two decimal places.\",\n",
      "    \"The program must display the vector components of the distance.\",\n",
      "    \"The angle between the vector components of the distance and the x-axis must be calculated and displayed, rounded to two decimal places.\"\n",
      "  ]\n",
      "}\n"
     ]
    }
   ],
   "source": [
    "ex1 = generate_constraints_v2(df.iloc[0][\"instruction\"], prompt_function=prompt_extract_constraints_v3)"
   ]
  },
  {
   "cell_type": "code",
   "execution_count": null,
   "id": "68aa7704",
   "metadata": {},
   "outputs": [
    {
     "name": "stdout",
     "output_type": "stream",
     "text": [
      "Generating constraints for instruction:\n",
      " Identify one category from the list below for the input text, and also infer the sentiment (positive, neutral, or negative) conveyed in the text. Your options for the category are - company, educational institution, artist, athlete, office holder, mean of transportation, building, natural place, village, animal, plant, album, film, or written work. Michael DenDekker - Michael G. DenDekker (born July 11 1961) is an assemblyman for the state of New York's 34th district which includes the neighborhoods of Woodside, Jackson Heights, and East Elmhurst, all in the borough/county of Queens.\n"
     ]
    },
    {
     "name": "stdout",
     "output_type": "stream",
     "text": [
      "\n",
      "generated response:\n",
      " {\n",
      "  \"constraints\": [\n",
      "    \"Only extract one category from the provided list.\",\n",
      "    \"Infer the sentiment (positive, neutral, or negative) from the text.\",\n",
      "    \"The text is a description of a person, specifically a political figure.\",\n",
      "    \"The output should include the category 'office holder' for the given text.\"\n",
      "  ]\n",
      "}\n"
     ]
    }
   ],
   "source": [
    "ex2 = generate_constraints_v2(followbench_data.iloc[1][\"instruction\"],prompt_function=prompt_extract_constraints_v3)"
   ]
  },
  {
   "cell_type": "code",
   "execution_count": 59,
   "id": "9f5fd06a",
   "metadata": {},
   "outputs": [
    {
     "name": "stdout",
     "output_type": "stream",
     "text": [
      "Generating constraints for instruction:\n",
      " Identify one category from the list below for the input text, and also infer the sentiment (positive, neutral, or negative) conveyed in the text. Your options for the category are - company, educational institution, artist, athlete, office holder, mean of transportation, building, natural place, village, animal, plant, album, film, or written work. Michael DenDekker - Michael G. DenDekker (born July 11 1961) is an assemblyman for the state of New York's 34th district which includes the neighborhoods of Woodside, Jackson Heights, and East Elmhurst, all in the borough/county of Queens.\n",
      "\n",
      "Prompt for constraint extraction:\n",
      " \n",
      "context: You are given an instruction for a code generation task.\n",
      "\n",
      "Your Role:\n",
      "Extract only implementation constraints from the instruction.\n",
      "\n",
      "## DO NOT:\n",
      "- DO NOT include the core problem to be solved.\n",
      "- DO NOT include problem description, input/output formats, examples, or explanations.\n",
      "- DO NOT include data representation details (e.g., “tuples of three integers”).\n",
      "- DO NOT include what to compute (e.g., “calculate the distance”).\n",
      "- DO NOT create constraints that are not explicitly mentioned in the instruction.\n",
      "\n",
      "## DO:\n",
      "- Only extract implementation-specific requirements that constrain how the solution must be written or how results must be presented.\n",
      "- Split any compound constraints into atomic constraints.\n",
      "\n",
      "## Input:\n",
      "{\n",
      "\"instruction\": \"Identify one category from the list below for the input text, and also infer the sentiment (positive, neutral, or negative) conveyed in the text. Your options for the category are - company, educational institution, artist, athlete, office holder, mean of transportation, building, natural place, village, animal, plant, album, film, or written work. Michael DenDekker - Michael G. DenDekker (born July 11 1961) is an assemblyman for the state of New York's 34th district which includes the neighborhoods of Woodside, Jackson Heights, and East Elmhurst, all in the borough/county of Queens.\"\n",
      "}\n",
      "\n",
      "## Output Format:\n",
      "Return constraints as a JSON object in this format:\n",
      "{\n",
      "  \"constraints\": [\n",
      "    \"<atomic constraint 1>\",\n",
      "    \"<atomic constraint 2>\",\n",
      "    ...\n",
      "  ]\n",
      "}\n",
      "\n",
      "Only return the JSON. Do not explain your reasoning or repeat the instruction.\n",
      "\n"
     ]
    },
    {
     "name": "stdout",
     "output_type": "stream",
     "text": [
      "\n",
      "generated response:\n",
      " {\n",
      "  \"constraints\": [\n",
      "    \"Only extract one category from the provided list.\",\n",
      "    \"Infer the sentiment (positive, neutral, or negative) from the text.\",\n",
      "    \"The text is a description of a person, specifically a political figure.\",\n",
      "    \"The output should include the category 'office holder' for the given text.\"\n",
      "  ]\n",
      "}\n"
     ]
    }
   ],
   "source": [
    "ex2 = generate_constraints(followbench_data.iloc[1][\"instruction\"],prompt_function=prompt_extract_constraints_v3)"
   ]
  },
  {
   "cell_type": "code",
   "execution_count": 60,
   "id": "78e7de8a",
   "metadata": {},
   "outputs": [
    {
     "name": "stdout",
     "output_type": "stream",
     "text": [
      "Generating constraints for instruction:\n",
      " Could you please determine the airspeed velocity of an unladen swallow? Present your response by initially stating the bird species and concluding with the velocity figure. Please follow a hierarchical structure, starting with the bird’s Family and Genus before moving to Species and finally the airspeed velocity. \n",
      "\n",
      "Prompt for constraint extraction:\n",
      " \n",
      "    context: I have instruction for LLM to generate response.\n",
      "    Task: Take the instrcution and extract the constraints from it.\n",
      "    Rules for completing the task:\n",
      "    1. Extracted constraints should not include core problem to solve, any explanations of the problem or the inputs and input examples.\n",
      "    2. constraints should be atomic, meaning each constraint should represent a single requirement or condition.\n",
      "    3. Split Compound Constraints into Atomic Ones: If any sentence or clause contains multiple distinct constraints, split it into multiple entries, ensuring each extracted constraint refers to exactly one requirement or condition. Do not combine multiple checks (e.g., multiple conditions separated by \"and\" or \"or\" clauses) into one constraint.\n",
      "    4. There should be a clear distinction between the core problem description and the constraints.\n",
      "    5. The core problem description should not be present in the constraints extraction.\n",
      "    ## Input Format:\n",
      "    {\"instruction\": Could you please determine the airspeed velocity of an unladen swallow? Present your response by initially stating the bird species and concluding with the velocity figure. Please follow a hierarchical structure, starting with the bird’s Family and Genus before moving to Species and finally the airspeed velocity. \n",
      "    }\n",
      "    ## Response Format:\n",
      "    You should extract the constraints from the instruction and\n",
      "    return them in a JSON format with the following structure:\n",
      "    { \"constraints\": [<constraint1>, <constraint2>, ...] }\n",
      "    where each <constraint> is a string representing a single atomic constraint.\n",
      "    \n"
     ]
    },
    {
     "name": "stdout",
     "output_type": "stream",
     "text": [
      "\n",
      "generated response:\n",
      " {\n",
      "  \"constraints\": [\n",
      "    \"Present the response by initially stating the bird species.\",\n",
      "    \"Conclude the response with the velocity figure.\",\n",
      "    \"Follow a hierarchical structure.\",\n",
      "    \"Start with the bird’s Family and Genus.\",\n",
      "    \"Move to Species next.\",\n",
      "    \"Finally, provide the airspeed velocity.\"\n",
      "  ]\n",
      "}\n"
     ]
    }
   ],
   "source": [
    "ex3 = generate_constraints(followbench_data.iloc[400][\"instruction\"],prompt_function=prompt_extract_constraints_v2)"
   ]
  },
  {
   "cell_type": "code",
   "execution_count": 61,
   "id": "ef763b91",
   "metadata": {},
   "outputs": [
    {
     "name": "stdout",
     "output_type": "stream",
     "text": [
      "Generating constraints for instruction:\n",
      " Could you please determine the airspeed velocity of an unladen swallow? Present your response by initially stating the bird species and concluding with the velocity figure. Please follow a hierarchical structure, starting with the bird’s Family and Genus before moving to Species and finally the airspeed velocity. \n",
      "\n",
      "Prompt for constraint extraction:\n",
      " \n",
      "    context: I have instruction for LLM to generate response.\n",
      "    Task: Take the instrcution and extract the constraints from it.\n",
      "    Rules for completing the task:\n",
      "    1. Extracted constraints should not include core problem to solve, any explanations of the problem or the inputs and input examples.\n",
      "    2. constraints should be atomic, meaning each constraint should represent a single requirement or condition.\n",
      "    3. Split Compound Constraints into Atomic Ones: If any sentence or clause contains multiple distinct constraints, split it into multiple entries, ensuring each extracted constraint refers to exactly one requirement or condition. Do not combine multiple checks (e.g., multiple conditions separated by \"and\" or \"or\" clauses) into one constraint.\n",
      "    4. There should be a clear distinction between the core problem description and the constraints.\n",
      "    5. The core problem description should not be present in the constraints extraction.\n",
      "    ## Input Format:\n",
      "    {\"instruction\": Could you please determine the airspeed velocity of an unladen swallow? Present your response by initially stating the bird species and concluding with the velocity figure. Please follow a hierarchical structure, starting with the bird’s Family and Genus before moving to Species and finally the airspeed velocity. \n",
      "    }\n",
      "    ## Response Format:\n",
      "    You should extract the constraints from the instruction and\n",
      "    return them in a JSON format with the following structure:\n",
      "    { \"constraints\": [<constraint1>, <constraint2>, ...] }\n",
      "    where each <constraint> is a string representing a single atomic constraint.\n",
      "    \n"
     ]
    },
    {
     "name": "stdout",
     "output_type": "stream",
     "text": [
      "\n",
      "generated response:\n",
      " {\n",
      "  \"constraints\": [\n",
      "    \"Present the response by initially stating the bird species.\",\n",
      "    \"Conclude the response with the velocity figure.\",\n",
      "    \"Follow a hierarchical structure.\",\n",
      "    \"Start with the bird’s Family and Genus.\",\n",
      "    \"Move to Species next.\",\n",
      "    \"Finally, provide the airspeed velocity.\"\n",
      "  ]\n",
      "}\n"
     ]
    }
   ],
   "source": [
    "ex3 = generate_constraints(followbench_data.iloc[400][\"instruction\"],prompt_function=prompt_extract_constraints_v2)"
   ]
  },
  {
   "cell_type": "markdown",
   "id": "e118d9a0",
   "metadata": {},
   "source": [
    "## On complexbench"
   ]
  },
  {
   "cell_type": "markdown",
   "id": "bfed0bd2",
   "metadata": {},
   "source": [
    "generated response:\n",
    " {\n",
    "  \"constraints\": [\n",
    "    \"Use a rigorous and formal language style\",\n",
    "    \"Maintain an impatient tone\",\n",
    "    \"Utilize the style of European and American translation language\",\n",
    "    \"Align answers with the character of Archduke Ferdinand\",\n",
    "    \"Ensure answers are consistent with the given setting\",\n",
    "    \"Ask a question related to the social environment of the Austro-Hungarian Empire based on the emotional inclination of the answer\"\n",
    "  ]\n",
    "}"
   ]
  },
  {
   "cell_type": "code",
   "execution_count": 94,
   "id": "d323f700",
   "metadata": {},
   "outputs": [
    {
     "name": "stdout",
     "output_type": "stream",
     "text": [
      "Generating constraints for instruction:\n",
      " Now you are Archduke Ferdinand. After fully understanding the experiences and personality of this character, use a rigorous and formal language style but with an impatient tone, and use the style of European and American translation language, to answer my question. My question is: Why do you advocate the annexation of the Kingdom of Serbia? Then, based on the emotional inclination of your answer, ask me a question related to the social environment of the Austro-Hungarian Empire at the time. You need to always play the designated character, and your answers should align with the given setting.\n",
      "\n",
      "Prompt for constraint extraction:\n",
      " \n",
      "    context: You are given an instruction for a code generation task.\n",
      "    Your Role:\n",
      "    Extract only implementation constraints from the instruction.\n",
      "    ## DO NOT:\n",
      "    - DO NOT include the core problem to be solved.\n",
      "    - DO NOT include problem description, input/output formats, examples, or explanations.\n",
      "    - DO NOT include data representation details (e.g., “tuples of three integers”).\n",
      "    - DO NOT include what to compute (e.g., “calculate the distance”).\n",
      "    - DO NOT create constraints that are not explicitly mentioned in the instruction.\n",
      "    ## DO:\n",
      "    - Only extract implementation-specific requirements that constrain how the solution must be written or how results must be presented.\n",
      "    - Split any compound constraints into atomic constraints.\n",
      "    ## Input:\n",
      "    {\n",
      "    \"instruction\": \"Now you are Archduke Ferdinand. After fully understanding the experiences and personality of this character, use a rigorous and formal language style but with an impatient tone, and use the style of European and American translation language, to answer my question. My question is: Why do you advocate the annexation of the Kingdom of Serbia? Then, based on the emotional inclination of your answer, ask me a question related to the social environment of the Austro-Hungarian Empire at the time. You need to always play the designated character, and your answers should align with the given setting.\"\n",
      "    }\n",
      "    ## Output Format:\n",
      "    Return constraints as a JSON object in this format:\n",
      "    {\n",
      "      \"constraints\": [\n",
      "        \"<atomic constraint 1>\",\n",
      "        \"<atomic constraint 2>\",\n",
      "        ...\n",
      "      ]\n",
      "    }\n",
      "    Only return the JSON. Do not explain your reasoning or repeat the instruction.\n",
      "    \n"
     ]
    },
    {
     "name": "stdout",
     "output_type": "stream",
     "text": [
      "\n",
      "generated response:\n",
      " {\n",
      "  \"constraints\": [\n",
      "    \"Use a rigorous and formal language style\",\n",
      "    \"Maintain an impatient tone\",\n",
      "    \"Utilize the style of European and American translation language\",\n",
      "    \"Align answers with the character of Archduke Ferdinand\",\n",
      "    \"Ensure answers are consistent with the given setting\",\n",
      "    \"Ask a question related to the social environment of the Austro-Hungarian Empire based on the emotional inclination of the answer\"\n",
      "  ]\n",
      "}\n"
     ]
    }
   ],
   "source": [
    "ex1 = generate_constraints(complex_bench.iloc[15][\"instruction_en\"], prompt_function=prompt_extract_constraints_v3)"
   ]
  },
  {
   "cell_type": "code",
   "execution_count": 63,
   "id": "51fe2261",
   "metadata": {},
   "outputs": [
    {
     "name": "stdout",
     "output_type": "stream",
     "text": [
      "Generating constraints for instruction:\n",
      " Background:\n",
      "\"\"\n",
      "Shending Technology (Nanjing) Co.,Ltd. (hereinafter referred to as \"Shending Technology\") has recently completed a new strategic financing round worth tens of millions of RMB. The investors are Shenzhen Hi-Tech Investment Group and Kunshan Taiwan Business Development Fund. \n",
      "The funds from this round will be allocated towards the expansion of solution development and mass promotion of smart sensing fusion chips.\n",
      "Shending Technology boasts fully independent R&D capabilities in 3D smart sensing fusion technology. Currently, leveraging its extensive productization experience and supply chain integration capabilities, the company's R&D team has developed a 3D smart sensing fusion SoC chip platform based on Smart Fusion technology. This platform meets the unique scenario requirements of mobile robots and retains the comprehensive expandability of mobile robot hardware and offers cost advantages.\n",
      "Regarding future development, a relevant representative from Shending Technology stated: \"At present, Shending Technology has acquired multiple core technologies and patent achievements, and has accumulated technical advantages in sensing fusion, image algorithms, and artificial intelligence. Following this financing, Shending Technology will continue to adhere to innovation-driven development, advancing the smart sensing fusion field, and providing higher-quality solutions and services for the intelligence of perception systems in mobile robots, AR/VR augmented/virtual reality, and autonomous driving.\" \n",
      "\"\"\n",
      "\n",
      "Please rewrite it into English news based on the background information. The news consists of a \"headline\" and a \"body\", and the rewriting takes place in the body part.\n",
      "The \"headline\" should summarise the news. The headline consists of the business and financing, and the purpose of the financing.\n",
      "The \"body\" should describe the enterprise and financing in the first paragraph (including the progress of the financing, the financier, the amount of financing, and the purpose of financing); in the following paragraphs, it describes the enterprise in terms of its name, business, team, speeches, core technology, technology direction, and product progress, and so on.\n",
      "\n",
      "Your news needs to comply with the following regulations:\n",
      "1. The headline and the content of the main body must fit together and be consistent.\n",
      "2. Re-express the information in the body of the background information, but the names of people, objects, numbers, dates, and behaviour can not be changed.\n",
      "3. The language of the rewritten news should be in English.\n",
      "\n",
      "Output format:\n",
      "\"\"\n",
      "Today's news:\n",
      "Title:\n",
      "[ ]\n",
      "Text:\n",
      "[ ]\n",
      "\"\"\n",
      "\n",
      "Prompt for constraint extraction:\n",
      " \n",
      "context: You are given an instruction for a code generation task.\n",
      "\n",
      "Your Role:\n",
      "Extract only implementation constraints from the instruction.\n",
      "\n",
      "## DO NOT:\n",
      "- DO NOT include the core problem to be solved.\n",
      "- DO NOT include problem description, input/output formats, examples, or explanations.\n",
      "- DO NOT include data representation details (e.g., “tuples of three integers”).\n",
      "- DO NOT include what to compute (e.g., “calculate the distance”).\n",
      "- DO NOT create constraints that are not explicitly mentioned in the instruction.\n",
      "\n",
      "## DO:\n",
      "- Only extract implementation-specific requirements that constrain how the solution must be written or how results must be presented.\n",
      "- Split any compound constraints into atomic constraints.\n",
      "\n",
      "## Input:\n",
      "{\n",
      "\"instruction\": \"Background:\n",
      "\"\"\n",
      "Shending Technology (Nanjing) Co.,Ltd. (hereinafter referred to as \"Shending Technology\") has recently completed a new strategic financing round worth tens of millions of RMB. The investors are Shenzhen Hi-Tech Investment Group and Kunshan Taiwan Business Development Fund. \n",
      "The funds from this round will be allocated towards the expansion of solution development and mass promotion of smart sensing fusion chips.\n",
      "Shending Technology boasts fully independent R&D capabilities in 3D smart sensing fusion technology. Currently, leveraging its extensive productization experience and supply chain integration capabilities, the company's R&D team has developed a 3D smart sensing fusion SoC chip platform based on Smart Fusion technology. This platform meets the unique scenario requirements of mobile robots and retains the comprehensive expandability of mobile robot hardware and offers cost advantages.\n",
      "Regarding future development, a relevant representative from Shending Technology stated: \"At present, Shending Technology has acquired multiple core technologies and patent achievements, and has accumulated technical advantages in sensing fusion, image algorithms, and artificial intelligence. Following this financing, Shending Technology will continue to adhere to innovation-driven development, advancing the smart sensing fusion field, and providing higher-quality solutions and services for the intelligence of perception systems in mobile robots, AR/VR augmented/virtual reality, and autonomous driving.\" \n",
      "\"\"\n",
      "\n",
      "Please rewrite it into English news based on the background information. The news consists of a \"headline\" and a \"body\", and the rewriting takes place in the body part.\n",
      "The \"headline\" should summarise the news. The headline consists of the business and financing, and the purpose of the financing.\n",
      "The \"body\" should describe the enterprise and financing in the first paragraph (including the progress of the financing, the financier, the amount of financing, and the purpose of financing); in the following paragraphs, it describes the enterprise in terms of its name, business, team, speeches, core technology, technology direction, and product progress, and so on.\n",
      "\n",
      "Your news needs to comply with the following regulations:\n",
      "1. The headline and the content of the main body must fit together and be consistent.\n",
      "2. Re-express the information in the body of the background information, but the names of people, objects, numbers, dates, and behaviour can not be changed.\n",
      "3. The language of the rewritten news should be in English.\n",
      "\n",
      "Output format:\n",
      "\"\"\n",
      "Today's news:\n",
      "Title:\n",
      "[ ]\n",
      "Text:\n",
      "[ ]\n",
      "\"\"\"\n",
      "}\n",
      "\n",
      "## Output Format:\n",
      "Return constraints as a JSON object in this format:\n",
      "{\n",
      "  \"constraints\": [\n",
      "    \"<atomic constraint 1>\",\n",
      "    \"<atomic constraint 2>\",\n",
      "    ...\n",
      "  ]\n",
      "}\n",
      "\n",
      "Only return the JSON. Do not explain your reasoning or repeat the instruction.\n",
      "\n"
     ]
    },
    {
     "name": "stdout",
     "output_type": "stream",
     "text": [
      "\n",
      "generated response:\n",
      " {\n",
      "  \"constraints\": [\n",
      "    \"The output must be in English.\",\n",
      "    \"The news must have a headline and a body.\",\n",
      "    \"The headline should summarize the news, including business, financing, and purpose.\",\n",
      "    \"The body's first paragraph must describe the enterprise and financing details.\",\n",
      "    \"Subsequent paragraphs should detail the enterprise's name, business, team, speeches, core technology, technology direction, and product progress.\",\n",
      "    \"Names of people, objects, numbers, dates, and behaviors must remain unchanged.\",\n",
      "    \"The language in the rewritten news must be consistent with the headline and background information.\"\n",
      "  ]\n",
      "}\n"
     ]
    }
   ],
   "source": [
    "ex1 = generate_constraints(complex_bench.iloc[0][\"instruction_en\"], prompt_function=prompt_extract_constraints_v3)"
   ]
  },
  {
   "cell_type": "markdown",
   "id": "5c10d2a4",
   "metadata": {},
   "source": [
    "## Final analysis"
   ]
  },
  {
   "cell_type": "code",
   "execution_count": 64,
   "id": "d8e8aaa9",
   "metadata": {},
   "outputs": [],
   "source": [
    "def generate_constraints_v2(instruction, prompt_function=prompt_extract_constraints_v3):\n",
    "    print(\"Generating constraints for instruction:\\n\", instruction)\n",
    "    prompt = prompt_function(instruction)\n",
    "    response = client2.get_model_response(prompt)\n",
    "    print(\"\\ngenerated response:\\n\", response)\n",
    "    constraints = extract_json(response, \"constraints\")\n",
    "    return constraints"
   ]
  },
  {
   "cell_type": "markdown",
   "id": "378f4581",
   "metadata": {},
   "source": [
    "## Code Generation"
   ]
  },
  {
   "cell_type": "code",
   "execution_count": 65,
   "id": "0b3e1498",
   "metadata": {},
   "outputs": [
    {
     "name": "stdout",
     "output_type": "stream",
     "text": [
      "Generating constraints for instruction:\n",
      " Calculate the distance between two points located in the 3-dimensional space. The points are represented as tuples of three integers. The distance should be rounded to two decimal places. Additionally, the program should also display the angle between the vector components of the resulting distance and the x-axis in degrees, rounded to two decimal places.\n",
      "\n",
      "Example Input:\n",
      "Point 1: (3, 4, 5)\n",
      "Point 2: (2, 6, -1)\n",
      "\n",
      "Example Output:\n",
      "Distance: 2.45\n",
      "Vector components: (1, 2, -6)\n",
      "Angle with x-axis: 32.94 degrees\n"
     ]
    },
    {
     "name": "stdout",
     "output_type": "stream",
     "text": [
      "\n",
      "generated response:\n",
      " {\n",
      "  \"constraints\": [\n",
      "    \"The solution must be implemented as a program.\",\n",
      "    \"The program must accept two tuples of three integers as input.\",\n",
      "    \"The program must calculate the Euclidean distance between the two points and round it to two decimal places.\",\n",
      "    \"The program must compute the vector components of the distance.\",\n",
      "    \"The program must calculate the angle between the vector components and the x-axis, rounding it to two decimal places.\",\n",
      "    \"The program must display the distance and angle in the specified format.\"\n",
      "  ]\n",
      "}\n",
      "Generating constraints for instruction:\n",
      " Assuming that the given sentence is stored in a variable \"sentence\" in a Python program, how can the program improve it by adding a descriptive tag to the word \"apples\" using HTML?\n",
      "For example, if \"apples\" are categorized as \"fruit\", the program can add the HTML tag <span class=\"fruit\">apples</span> to the sentence. How can this be achieved using Python and HTML?\n",
      "\n",
      "generated response:\n",
      " {\n",
      "  \"constraints\": [\n",
      "    \"The program should assume 'apples' is a word in a given sentence stored in a Python variable.\",\n",
      "    \"The program should add a descriptive HTML tag to 'apples'.\",\n",
      "    \"The descriptive tag should include a class attribute indicating the category of 'apples'.\",\n",
      "    \"In the example, 'apples' are categorized as 'fruit'.\",\n",
      "    \"The HTML tag to be added should be <span class=\\\"fruit\\\">apples</span>.\",\n",
      "    \"The task should be accomplished using Python and HTML.\"\n",
      "  ]\n",
      "}\n",
      "Generating constraints for instruction:\n",
      " Calculate the distance between two points located in the 3-dimensional space. The points are represented as tuples of three integers. The distance should be rounded to two decimal places. Additionally, the program should also display the angle between the vector components of the resulting distance and the x-axis in degrees, rounded to two decimal places.\n",
      "\n",
      "Example Input:\n",
      "Point 1: (3, 4, 5)\n",
      "Point 2: (2, 6, -1)\n",
      "\n",
      "Example Output:\n",
      "Distance: 2.45\n",
      "Vector components: (1, 2, -6)\n",
      "Angle with x-axis: 32.94 degrees\n",
      "\n",
      "generated response:\n",
      " {\n",
      "  \"constraints\": [\n",
      "    \"The solution must be implemented as a program.\",\n",
      "    \"The program must accept two tuples of three integers as input.\",\n",
      "    \"The program must calculate the Euclidean distance between the two points and round it to two decimal places.\",\n",
      "    \"The program must compute the vector components of the distance.\",\n",
      "    \"The program must calculate the angle between the vector components and the x-axis, rounding it to two decimal places.\",\n",
      "    \"The program must display the distance and angle in the specified format.\"\n",
      "  ]\n",
      "}\n"
     ]
    }
   ],
   "source": [
    "ex1 = generate_constraints_v2(df.iloc[0][\"instruction\"])\n",
    "ex2 = generate_constraints_v2(df.iloc[1][\"instruction\"], prompt_function=prompt_extract_constraints_v2)\n",
    "ex3 = generate_constraints_v2(df.iloc[0][\"instruction\"], prompt_function=prompt_extract_constraints_v3)"
   ]
  },
  {
   "cell_type": "markdown",
   "id": "c128ea3f",
   "metadata": {},
   "source": [
    "## ComplexBench"
   ]
  },
  {
   "cell_type": "code",
   "execution_count": 66,
   "id": "c2fe403c",
   "metadata": {},
   "outputs": [
    {
     "name": "stdout",
     "output_type": "stream",
     "text": [
      "Generating constraints for instruction:\n",
      " Background:\n",
      "\"\"\n",
      "Shending Technology (Nanjing) Co.,Ltd. (hereinafter referred to as \"Shending Technology\") has recently completed a new strategic financing round worth tens of millions of RMB. The investors are Shenzhen Hi-Tech Investment Group and Kunshan Taiwan Business Development Fund. \n",
      "The funds from this round will be allocated towards the expansion of solution development and mass promotion of smart sensing fusion chips.\n",
      "Shending Technology boasts fully independent R&D capabilities in 3D smart sensing fusion technology. Currently, leveraging its extensive productization experience and supply chain integration capabilities, the company's R&D team has developed a 3D smart sensing fusion SoC chip platform based on Smart Fusion technology. This platform meets the unique scenario requirements of mobile robots and retains the comprehensive expandability of mobile robot hardware and offers cost advantages.\n",
      "Regarding future development, a relevant representative from Shending Technology stated: \"At present, Shending Technology has acquired multiple core technologies and patent achievements, and has accumulated technical advantages in sensing fusion, image algorithms, and artificial intelligence. Following this financing, Shending Technology will continue to adhere to innovation-driven development, advancing the smart sensing fusion field, and providing higher-quality solutions and services for the intelligence of perception systems in mobile robots, AR/VR augmented/virtual reality, and autonomous driving.\" \n",
      "\"\"\n",
      "\n",
      "Please rewrite it into English news based on the background information. The news consists of a \"headline\" and a \"body\", and the rewriting takes place in the body part.\n",
      "The \"headline\" should summarise the news. The headline consists of the business and financing, and the purpose of the financing.\n",
      "The \"body\" should describe the enterprise and financing in the first paragraph (including the progress of the financing, the financier, the amount of financing, and the purpose of financing); in the following paragraphs, it describes the enterprise in terms of its name, business, team, speeches, core technology, technology direction, and product progress, and so on.\n",
      "\n",
      "Your news needs to comply with the following regulations:\n",
      "1. The headline and the content of the main body must fit together and be consistent.\n",
      "2. Re-express the information in the body of the background information, but the names of people, objects, numbers, dates, and behaviour can not be changed.\n",
      "3. The language of the rewritten news should be in English.\n",
      "\n",
      "Output format:\n",
      "\"\"\n",
      "Today's news:\n",
      "Title:\n",
      "[ ]\n",
      "Text:\n",
      "[ ]\n",
      "\"\"\n"
     ]
    },
    {
     "name": "stdout",
     "output_type": "stream",
     "text": [
      "\n",
      "generated response:\n",
      " {\n",
      "  \"constraints\": [\n",
      "    \"The output must be in English.\",\n",
      "    \"The news must have a headline and a body.\",\n",
      "    \"The headline should summarize the news, including business, financing, and purpose.\",\n",
      "    \"The body's first paragraph must describe the enterprise and financing details.\",\n",
      "    \"Subsequent paragraphs should detail the enterprise's name, business, team, speeches, core technology, technology direction, and product progress.\",\n",
      "    \"Names of people, objects, numbers, dates, and behaviors must remain unchanged.\",\n",
      "    \"The language in the rewritten news must be consistent with the headline and background information.\"\n",
      "  ]\n",
      "}\n",
      "Generating constraints for instruction:\n",
      " You are a rapper, help me write a song lyric, with the first line being 'Always can't keep up with the pace.' The overall lyric should be positive and uplifting, containing a small amount of English words. Additionally, the context of the lyrics should be smooth, without any jumps in information or scenes.\n",
      "\n",
      "generated response:\n",
      " {\n",
      "  \"constraints\": [\n",
      "    \"The response should be a song lyric.\",\n",
      "    \"The first line of the lyric must be 'Always can't keep up with the pace.'\",\n",
      "    \"The overall tone of the lyric should be positive and uplifting.\",\n",
      "    \"The lyric should contain a small amount of English words.\",\n",
      "    \"The context of the lyrics should be smooth and coherent.\"\n",
      "  ]\n",
      "}\n",
      "Generating constraints for instruction:\n",
      " Background:\n",
      "\"\"\n",
      "Shending Technology (Nanjing) Co.,Ltd. (hereinafter referred to as \"Shending Technology\") has recently completed a new strategic financing round worth tens of millions of RMB. The investors are Shenzhen Hi-Tech Investment Group and Kunshan Taiwan Business Development Fund. \n",
      "The funds from this round will be allocated towards the expansion of solution development and mass promotion of smart sensing fusion chips.\n",
      "Shending Technology boasts fully independent R&D capabilities in 3D smart sensing fusion technology. Currently, leveraging its extensive productization experience and supply chain integration capabilities, the company's R&D team has developed a 3D smart sensing fusion SoC chip platform based on Smart Fusion technology. This platform meets the unique scenario requirements of mobile robots and retains the comprehensive expandability of mobile robot hardware and offers cost advantages.\n",
      "Regarding future development, a relevant representative from Shending Technology stated: \"At present, Shending Technology has acquired multiple core technologies and patent achievements, and has accumulated technical advantages in sensing fusion, image algorithms, and artificial intelligence. Following this financing, Shending Technology will continue to adhere to innovation-driven development, advancing the smart sensing fusion field, and providing higher-quality solutions and services for the intelligence of perception systems in mobile robots, AR/VR augmented/virtual reality, and autonomous driving.\" \n",
      "\"\"\n",
      "\n",
      "Please rewrite it into English news based on the background information. The news consists of a \"headline\" and a \"body\", and the rewriting takes place in the body part.\n",
      "The \"headline\" should summarise the news. The headline consists of the business and financing, and the purpose of the financing.\n",
      "The \"body\" should describe the enterprise and financing in the first paragraph (including the progress of the financing, the financier, the amount of financing, and the purpose of financing); in the following paragraphs, it describes the enterprise in terms of its name, business, team, speeches, core technology, technology direction, and product progress, and so on.\n",
      "\n",
      "Your news needs to comply with the following regulations:\n",
      "1. The headline and the content of the main body must fit together and be consistent.\n",
      "2. Re-express the information in the body of the background information, but the names of people, objects, numbers, dates, and behaviour can not be changed.\n",
      "3. The language of the rewritten news should be in English.\n",
      "\n",
      "Output format:\n",
      "\"\"\n",
      "Today's news:\n",
      "Title:\n",
      "[ ]\n",
      "Text:\n",
      "[ ]\n",
      "\"\"\n",
      "\n",
      "generated response:\n",
      " {\n",
      "  \"constraints\": [\n",
      "    \"The output must be in English.\",\n",
      "    \"The news must have a headline and a body.\",\n",
      "    \"The headline should summarize the news, including business, financing, and purpose.\",\n",
      "    \"The body's first paragraph must describe the enterprise and financing details.\",\n",
      "    \"Subsequent paragraphs should detail the enterprise's name, business, team, speeches, core technology, technology direction, and product progress.\",\n",
      "    \"Names of people, objects, numbers, dates, and behaviors must remain unchanged.\",\n",
      "    \"The language in the rewritten news must be consistent with the headline and background information.\"\n",
      "  ]\n",
      "}\n"
     ]
    }
   ],
   "source": [
    "ex1 = generate_constraints_v2(complex_bench.iloc[0][\"instruction_en\"])\n",
    "ex2 = generate_constraints_v2(complex_bench.iloc[1][\"instruction_en\"], prompt_function=prompt_extract_constraints_v2)\n",
    "ex3 = generate_constraints_v2(complex_bench.iloc[0][\"instruction_en\"], prompt_function=prompt_extract_constraints_v3)"
   ]
  },
  {
   "cell_type": "markdown",
   "id": "41e6d52d",
   "metadata": {},
   "source": [
    "## Followbench"
   ]
  },
  {
   "cell_type": "code",
   "execution_count": 67,
   "id": "8d98bebc",
   "metadata": {},
   "outputs": [
    {
     "name": "stdout",
     "output_type": "stream",
     "text": [
      "Generating constraints for instruction:\n",
      " Pick one category for the following text. The options are - company, educational institution, artist, athlete, office holder, mean of transportation, building, natural place, village, animal, plant, album, film or written work. Michael DenDekker -  Michael G. DenDekker (born July 11 1961) is an assemblyman for the state of New York's 34th district which includes the neighborhoods of Woodside Jackson Heights and East Elmhurst all in the borough/county of Queens.\n",
      "\n",
      "Prompt for constraint extraction:\n",
      " \n",
      "    context: I have instruction for LLM to generate response.\n",
      "    Task: Take the instrcution and extract the constraints from it.\n",
      "    Constraints are the additional requirements apart from the main task that the LLM needs to follow while generating the response.\n",
      "    Rules for completing the task:\n",
      "    1. The constraints should be atomic, meaning each constraint should represent a single requirement or condition.\n",
      "    2. The constraints should be extracted from the instruction and should not include any additional information.\n",
      "    ## Input Format:\n",
      "    {\"instruction\": Pick one category for the following text. The options are - company, educational institution, artist, athlete, office holder, mean of transportation, building, natural place, village, animal, plant, album, film or written work. Michael DenDekker -  Michael G. DenDekker (born July 11 1961) is an assemblyman for the state of New York's 34th district which includes the neighborhoods of Woodside Jackson Heights and East Elmhurst all in the borough/county of Queens.\n",
      "    }\n",
      "    ## Response Format:\n",
      "    You should extract the constraints from the instruction and\n",
      "    return them in a JSON format with the following structure:\n",
      "    { \"constraints\": [<constraint1>, <constraint2>, ...] }\n",
      "    where each <constraint> is a string representing a single atomic constraint.\n",
      "    \n"
     ]
    },
    {
     "name": "stdout",
     "output_type": "stream",
     "text": [
      "\n",
      "generated response:\n",
      " {\n",
      "  \"constraints\": [\n",
      "    \"The response should pick one category for the given text.\",\n",
      "    \"The categories to choose from are: company, educational institution, artist, athlete, office holder, mean of transportation, building, natural place, village, animal, plant, album, film or written work.\",\n",
      "    \"The response should provide information about Michael G. DenDekker.\",\n",
      "    \"The response should include the district he represents in the New York State Assembly.\",\n",
      "    \"The response should list the neighborhoods included in his district.\"\n",
      "  ]\n",
      "}\n",
      "Generating constraints for instruction:\n",
      " Identify one category from the list below for the input text, and also infer the sentiment (positive, neutral, or negative) conveyed in the text. Your options for the category are - company, educational institution, artist, athlete, office holder, mean of transportation, building, natural place, village, animal, plant, album, film, or written work. Michael DenDekker - Michael G. DenDekker (born July 11 1961) is an assemblyman for the state of New York's 34th district which includes the neighborhoods of Woodside, Jackson Heights, and East Elmhurst, all in the borough/county of Queens.\n",
      "\n",
      "Prompt for constraint extraction:\n",
      " \n",
      "    context: I have instruction for LLM to generate response.\n",
      "    Task: Take the instrcution and extract the constraints from it.\n",
      "    Rules for completing the task:\n",
      "    1. Extracted constraints should not include core problem to solve, any explanations of the problem or the inputs and input examples.\n",
      "    2. constraints should be atomic, meaning each constraint should represent a single requirement or condition.\n",
      "    3. Split Compound Constraints into Atomic Ones: If any sentence or clause contains multiple distinct constraints, split it into multiple entries, ensuring each extracted constraint refers to exactly one requirement or condition. Do not combine multiple checks (e.g., multiple conditions separated by \"and\" or \"or\" clauses) into one constraint.\n",
      "    4. There should be a clear distinction between the core problem description and the constraints.\n",
      "    5. The core problem description should not be present in the constraints extraction.\n",
      "    ## Input Format:\n",
      "    {\"instruction\": Identify one category from the list below for the input text, and also infer the sentiment (positive, neutral, or negative) conveyed in the text. Your options for the category are - company, educational institution, artist, athlete, office holder, mean of transportation, building, natural place, village, animal, plant, album, film, or written work. Michael DenDekker - Michael G. DenDekker (born July 11 1961) is an assemblyman for the state of New York's 34th district which includes the neighborhoods of Woodside, Jackson Heights, and East Elmhurst, all in the borough/county of Queens.\n",
      "    }\n",
      "    ## Response Format:\n",
      "    You should extract the constraints from the instruction and\n",
      "    return them in a JSON format with the following structure:\n",
      "    { \"constraints\": [<constraint1>, <constraint2>, ...] }\n",
      "    where each <constraint> is a string representing a single atomic constraint.\n",
      "    \n",
      "\n",
      "generated response:\n",
      " {\n",
      "  \"constraints\": [\n",
      "    \"Identify one category from the provided list.\",\n",
      "    \"Infer the sentiment (positive, neutral, or negative) conveyed in the text.\",\n",
      "    \"Options for the category: company, educational institution, artist, athlete, office holder, mean of transportation, building, natural place, village, animal, plant, album, film, or written work.\",\n",
      "    \"The text to analyze: Michael DenDekker - Michael G. DenDekker (born July 11 1961) is an assemblyman for the state of New York's 34th district which includes the neighborhoods of Woodside, Jackson Heights, and East Elmhurst, all in the borough/county of Queens.\"\n",
      "  ]\n",
      "}\n",
      "Generating constraints for instruction:\n",
      " Could you please determine the airspeed velocity of an unladen swallow? Present your response by initially stating the bird species and concluding with the velocity figure. Please follow a hierarchical structure, starting with the bird’s Family and Genus before moving to Species and finally the airspeed velocity. \n",
      "\n",
      "Prompt for constraint extraction:\n",
      " \n",
      "context: You are given an instruction for a code generation task.\n",
      "\n",
      "Your Role:\n",
      "Extract only implementation constraints from the instruction.\n",
      "\n",
      "## DO NOT:\n",
      "- DO NOT include the core problem to be solved.\n",
      "- DO NOT include problem description, input/output formats, examples, or explanations.\n",
      "- DO NOT include data representation details (e.g., “tuples of three integers”).\n",
      "- DO NOT include what to compute (e.g., “calculate the distance”).\n",
      "- DO NOT create constraints that are not explicitly mentioned in the instruction.\n",
      "\n",
      "## DO:\n",
      "- Only extract implementation-specific requirements that constrain how the solution must be written or how results must be presented.\n",
      "- Split any compound constraints into atomic constraints.\n",
      "\n",
      "## Input:\n",
      "{\n",
      "\"instruction\": \"Could you please determine the airspeed velocity of an unladen swallow? Present your response by initially stating the bird species and concluding with the velocity figure. Please follow a hierarchical structure, starting with the bird’s Family and Genus before moving to Species and finally the airspeed velocity. \"\n",
      "}\n",
      "\n",
      "## Output Format:\n",
      "Return constraints as a JSON object in this format:\n",
      "{\n",
      "  \"constraints\": [\n",
      "    \"<atomic constraint 1>\",\n",
      "    \"<atomic constraint 2>\",\n",
      "    ...\n",
      "  ]\n",
      "}\n",
      "\n",
      "Only return the JSON. Do not explain your reasoning or repeat the instruction.\n",
      "\n",
      "\n",
      "generated response:\n",
      " {\n",
      "  \"constraints\": [\n",
      "    \"Response must follow a hierarchical structure starting with the bird’s Family and Genus.\",\n",
      "    \"Response must explicitly state the bird’s Species.\",\n",
      "    \"Response must conclude with the airspeed velocity figure.\"\n",
      "  ]\n",
      "}\n"
     ]
    }
   ],
   "source": [
    "ex1 = generate_constraints(followbench_data.iloc[0][\"instruction\"])\n",
    "ex2 = generate_constraints(followbench_data.iloc[1][\"instruction\"],prompt_function=prompt_extract_constraints_v2)\n",
    "ex3 = generate_constraints(followbench_data.iloc[400][\"instruction\"],prompt_function=prompt_extract_constraints_v3)"
   ]
  },
  {
   "cell_type": "markdown",
   "id": "c2621fad",
   "metadata": {},
   "source": [
    "# Version 4 Few shot Propmting"
   ]
  },
  {
   "cell_type": "code",
   "execution_count": 80,
   "id": "c4ac2b2f",
   "metadata": {},
   "outputs": [
    {
     "name": "stdout",
     "output_type": "stream",
     "text": [
      "Generating constraints for instruction:\n",
      " Rollback the update of a directory by restoring it from a backup. Constants: - BACKUP_DIR: The directory where backups are stored. Default is '/tmp/backup'. >>> task_func('/tmp/nonexistent') 'Backup directory /tmp/backup does not exist. Cannot rollback update.'\n",
      "Note that: This function will return the restored directory path on successful rollback, or an error message otherwise.\n",
      "The function should output with:\n",
      "    directory (str): The restored directory path if successful, otherwise an error message.\n",
      "You should write self-contained code starting with:\n",
      "```\n",
      "import os\n",
      "import shutil\n",
      "# Constants\n",
      "BACKUP_DIR = '/tmp/backup'\n",
      "def task_func(directory):\n",
      "```\n"
     ]
    },
    {
     "name": "stdout",
     "output_type": "stream",
     "text": [
      "\n",
      "generated response:\n",
      " {\n",
      "  \"constraints\": [\n",
      "    \"Import the 'os' and 'shutil' modules.\",\n",
      "    \"Define a constant 'BACKUP_DIR' with the value '/tmp/backup'.\",\n",
      "    \"The function 'task_func' must accept a single argument 'directory'.\",\n",
      "    \"The function should return the restored directory path on successful rollback, or an error message otherwise.\",\n",
      "    \"The function output should be formatted as a string.\"\n",
      "  ]\n",
      "}\n"
     ]
    }
   ],
   "source": [
    "def prompt_extract_constraints_v4(instruction):\n",
    "    prompt = f\"\"\"\n",
    "context: You are given an instruction for a code generation task.\n",
    "\n",
    "Your Role:\n",
    "Extract only implementation constraints from the instruction.\n",
    "\n",
    "## DO NOT:\n",
    "- DO NOT include the core problem to be solved.\n",
    "- DO NOT include problem description, input/output formats, examples, or explanations.\n",
    "- DO NOT include data representation details (e.g., “tuples of three integers”).\n",
    "- DO NOT include what to compute (e.g., “calculate the distance”).\n",
    "- DO NOT create constraints that are not explicitly mentioned in the instruction.\n",
    "\n",
    "## DO:\n",
    "- Only extract implementation-specific requirements that constrain how the solution must be written or how results must be presented.\n",
    "- Split any compound constraints into atomic constraints.\n",
    "\n",
    "## Few-shot Examples:\n",
    "\n",
    "### Example 1\n",
    "Instruction:\n",
    "Calculate the distance between two points located in the 3-dimensional space. The points are represented as tuples of three integers. The distance should be rounded to two decimal places. Additionally, the program should also display the angle between the vector components of the resulting distance and the x-axis in degrees, rounded to two decimal places.\n",
    "\n",
    "Example Input:\n",
    "Point 1: (3, 4, 5)\n",
    "Point 2: (2, 6, -1)\n",
    "\n",
    "Example Output:\n",
    "Distance: 2.45  \n",
    "Vector components: (1, 2, -6)  \n",
    "Angle with x-axis: 32.94 degrees\n",
    "\n",
    "Output:\n",
    "{{\n",
    "  \"constraints\": [\n",
    "    \"Return the distance rounded to two decimal places.\",\n",
    "    \"Display the vector components as a tuple of three integers.\",\n",
    "    \"Return the angle with the x-axis rounded to two decimal places in degrees.\"\n",
    "  ]\n",
    "}}\n",
    "\n",
    "---\n",
    "\n",
    "## Input:\n",
    "{{\n",
    "\"instruction\": \"{instruction}\"\n",
    "}}\n",
    "\n",
    "## Output Format:\n",
    "Return constraints as a JSON object in this format:\n",
    "{{\n",
    "  \"constraints\": [\n",
    "    \"<atomic constraint 1>\",\n",
    "    \"<atomic constraint 2>\",\n",
    "    ...\n",
    "  ]\n",
    "}}\n",
    "\n",
    "Only return the JSON. Do not explain your reasoning or repeat the instruction.\n",
    "\"\"\"\n",
    "    return prompt\n",
    "ex1 = generate_constraints_v2(df.iloc[20][\"instruction\"], prompt_function=prompt_extract_constraints_v4)"
   ]
  },
  {
   "cell_type": "code",
   "execution_count": 95,
   "id": "63278e5d",
   "metadata": {},
   "outputs": [
    {
     "name": "stdout",
     "output_type": "stream",
     "text": [
      "Generating constraints for instruction:\n",
      " Now you are Archduke Ferdinand. After fully understanding the experiences and personality of this character, use a rigorous and formal language style but with an impatient tone, and use the style of European and American translation language, to answer my question. My question is: Why do you advocate the annexation of the Kingdom of Serbia? Then, based on the emotional inclination of your answer, ask me a question related to the social environment of the Austro-Hungarian Empire at the time. You need to always play the designated character, and your answers should align with the given setting.\n",
      "\n",
      "Prompt for constraint extraction:\n",
      " \n",
      "context: You are given an instruction for a code generation task.\n",
      "\n",
      "Your Role:\n",
      "Extract only implementation constraints from the instruction.\n",
      "\n",
      "## DO NOT:\n",
      "- DO NOT include the core problem to be solved.\n",
      "- DO NOT include problem description, input/output formats, examples, or explanations.\n",
      "- DO NOT include data representation details (e.g., “tuples of three integers”).\n",
      "- DO NOT include what to compute (e.g., “calculate the distance”).\n",
      "- DO NOT create constraints that are not explicitly mentioned in the instruction.\n",
      "\n",
      "## DO:\n",
      "- Only extract implementation-specific requirements that constrain how the solution must be written or how results must be presented.\n",
      "- Split any compound constraints into atomic constraints.\n",
      "\n",
      "## Few-shot Examples:\n",
      "\n",
      "### Example 1\n",
      "Instruction:\n",
      "Calculate the distance between two points located in the 3-dimensional space. The points are represented as tuples of three integers. The distance should be rounded to two decimal places. Additionally, the program should also display the angle between the vector components of the resulting distance and the x-axis in degrees, rounded to two decimal places.\n",
      "\n",
      "Example Input:\n",
      "Point 1: (3, 4, 5)\n",
      "Point 2: (2, 6, -1)\n",
      "\n",
      "Example Output:\n",
      "Distance: 2.45  \n",
      "Vector components: (1, 2, -6)  \n",
      "Angle with x-axis: 32.94 degrees\n",
      "\n",
      "Output:\n",
      "{\n",
      "  \"constraints\": [\n",
      "    \"Return the distance rounded to two decimal places.\",\n",
      "    \"Display the vector components as a tuple of three integers.\",\n",
      "    \"Return the angle with the x-axis rounded to two decimal places in degrees.\"\n",
      "  ]\n",
      "}\n",
      "\n",
      "---\n",
      "\n",
      "## Input:\n",
      "{\n",
      "\"instruction\": \"Now you are Archduke Ferdinand. After fully understanding the experiences and personality of this character, use a rigorous and formal language style but with an impatient tone, and use the style of European and American translation language, to answer my question. My question is: Why do you advocate the annexation of the Kingdom of Serbia? Then, based on the emotional inclination of your answer, ask me a question related to the social environment of the Austro-Hungarian Empire at the time. You need to always play the designated character, and your answers should align with the given setting.\"\n",
      "}\n",
      "\n",
      "## Output Format:\n",
      "Return constraints as a JSON object in this format:\n",
      "{\n",
      "  \"constraints\": [\n",
      "    \"<atomic constraint 1>\",\n",
      "    \"<atomic constraint 2>\",\n",
      "    ...\n",
      "  ]\n",
      "}\n",
      "\n",
      "Only return the JSON. Do not explain your reasoning or repeat the instruction.\n",
      "\n",
      "\n",
      "generated response:\n",
      " {\n",
      "  \"constraints\": [\n",
      "    \"Use a rigorous and formal language style with an impatient tone.\",\n",
      "    \"Utilize the style of European and American translation language.\",\n",
      "    \"Answer strictly from the perspective of Archduke Ferdinand.\",\n",
      "    \"Align response with Archduke Ferdinand's experiences and personality.\",\n",
      "    \"Ask a question related to the social environment of the Austro-Hungarian Empire based on the emotional inclination of the answer.\"\n",
      "  ]\n",
      "}\n"
     ]
    }
   ],
   "source": [
    "ex1 = generate_constraints(complex_bench.iloc[15][\"instruction_en\"], prompt_function=prompt_extract_constraints_v4)"
   ]
  },
  {
   "cell_type": "code",
   "execution_count": 96,
   "id": "b90df82b",
   "metadata": {},
   "outputs": [],
   "source": [
    "def prompt_extract_constraints_v5(instruction):\n",
    "    prompt = f\"\"\"\n",
    "context: You are given an instruction for a code generation task.\n",
    "\n",
    "Your Role:\n",
    "Extract only implementation constraints from the instruction.\n",
    "\n",
    "## DO NOT:\n",
    "- DO NOT include the core problem to be solved.\n",
    "- DO NOT include problem description, input/output formats, examples, or explanations.\n",
    "- DO NOT include data representation details (e.g., “tuples of three integers”).\n",
    "- DO NOT include what to compute (e.g., “calculate the distance”).\n",
    "- DO NOT create constraints that are not explicitly mentioned in the instruction.\n",
    "\n",
    "## DO:\n",
    "- Only extract implementation-specific requirements that constrain how the solution must be written or how results must be presented.\n",
    "- Split any compound constraints into atomic constraints.\n",
    "\n",
    "## Few-shot Example:\n",
    "\n",
    "### Instruction:\n",
    "Calculate the distance between two points located in the 3-dimensional space. The points are represented as tuples of three integers. The distance should be rounded to two decimal places. Additionally, the program should also display the angle between the vector components of the resulting distance and the x-axis in degrees, rounded to two decimal places.\n",
    "\n",
    "### Example Input:\n",
    "Point 1: (3, 4, 5)  \n",
    "Point 2: (2, 6, -1)\n",
    "\n",
    "### Example Output:\n",
    "Distance: 2.45  \n",
    "Vector components: (1, 2, -6)  \n",
    "Angle with x-axis: 32.94 degrees\n",
    "\n",
    "### Incorrect Response:\n",
    "{{\n",
    "  \"constraints\": [\n",
    "    \"Use tuples of three integers to represent points in 3D space.\",\n",
    "    \"Distance between points must be rounded to two decimal places.\",\n",
    "    \"Program must display the vector components of the distance.\",\n",
    "    \"Angle between the vector components of the distance and the x-axis must be calculated and rounded to two decimal places in degrees.\"\n",
    "  ]\n",
    "}}\n",
    "\n",
    "(Explanation: This response includes representation details and rephrases what to compute, which violates the instructions.)\n",
    "\n",
    "### Correct Response:\n",
    "{{\n",
    "  \"constraints\": [\n",
    "    \"Return the distance rounded to two decimal places.\",\n",
    "    \"Display the vector components as a tuple of three integers.\",\n",
    "    \"Return the angle with the x-axis rounded to two decimal places in degrees.\"\n",
    "  ]\n",
    "}}\n",
    "## Input:\n",
    "{{\n",
    "\"instruction\": \"{instruction}\"\n",
    "}}\n",
    "\n",
    "## Output Format:\n",
    "Return constraints as a JSON object in this format:\n",
    "{{\n",
    "  \"constraints\": [\n",
    "    \"<atomic constraint 1>\",\n",
    "    \"<atomic constraint 2>\",\n",
    "    ...\n",
    "  ]\n",
    "}}\n",
    "\n",
    "Only return the JSON. Do not explain your reasoning or repeat the instruction.\n",
    "\"\"\"\n",
    "    return prompt\n"
   ]
  },
  {
   "cell_type": "code",
   "execution_count": 97,
   "id": "7a95309d",
   "metadata": {},
   "outputs": [
    {
     "name": "stdout",
     "output_type": "stream",
     "text": [
      "Generating constraints for instruction:\n",
      " Now you are Archduke Ferdinand. After fully understanding the experiences and personality of this character, use a rigorous and formal language style but with an impatient tone, and use the style of European and American translation language, to answer my question. My question is: Why do you advocate the annexation of the Kingdom of Serbia? Then, based on the emotional inclination of your answer, ask me a question related to the social environment of the Austro-Hungarian Empire at the time. You need to always play the designated character, and your answers should align with the given setting.\n",
      "\n",
      "Prompt for constraint extraction:\n",
      " \n",
      "context: You are given an instruction for a code generation task.\n",
      "\n",
      "Your Role:\n",
      "Extract only implementation constraints from the instruction.\n",
      "\n",
      "## DO NOT:\n",
      "- DO NOT include the core problem to be solved.\n",
      "- DO NOT include problem description, input/output formats, examples, or explanations.\n",
      "- DO NOT include data representation details (e.g., “tuples of three integers”).\n",
      "- DO NOT include what to compute (e.g., “calculate the distance”).\n",
      "- DO NOT create constraints that are not explicitly mentioned in the instruction.\n",
      "\n",
      "## DO:\n",
      "- Only extract implementation-specific requirements that constrain how the solution must be written or how results must be presented.\n",
      "- Split any compound constraints into atomic constraints.\n",
      "\n",
      "## Few-shot Example:\n",
      "\n",
      "### Instruction:\n",
      "Calculate the distance between two points located in the 3-dimensional space. The points are represented as tuples of three integers. The distance should be rounded to two decimal places. Additionally, the program should also display the angle between the vector components of the resulting distance and the x-axis in degrees, rounded to two decimal places.\n",
      "\n",
      "### Example Input:\n",
      "Point 1: (3, 4, 5)  \n",
      "Point 2: (2, 6, -1)\n",
      "\n",
      "### Example Output:\n",
      "Distance: 2.45  \n",
      "Vector components: (1, 2, -6)  \n",
      "Angle with x-axis: 32.94 degrees\n",
      "\n",
      "### Incorrect Response:\n",
      "{\n",
      "  \"constraints\": [\n",
      "    \"Use tuples of three integers to represent points in 3D space.\",\n",
      "    \"Distance between points must be rounded to two decimal places.\",\n",
      "    \"Program must display the vector components of the distance.\",\n",
      "    \"Angle between the vector components of the distance and the x-axis must be calculated and rounded to two decimal places in degrees.\"\n",
      "  ]\n",
      "}\n",
      "\n",
      "(Explanation: This response includes representation details and rephrases what to compute, which violates the instructions.)\n",
      "\n",
      "### Correct Response:\n",
      "{\n",
      "  \"constraints\": [\n",
      "    \"Return the distance rounded to two decimal places.\",\n",
      "    \"Display the vector components as a tuple of three integers.\",\n",
      "    \"Return the angle with the x-axis rounded to two decimal places in degrees.\"\n",
      "  ]\n",
      "}\n",
      "## Input:\n",
      "{\n",
      "\"instruction\": \"Now you are Archduke Ferdinand. After fully understanding the experiences and personality of this character, use a rigorous and formal language style but with an impatient tone, and use the style of European and American translation language, to answer my question. My question is: Why do you advocate the annexation of the Kingdom of Serbia? Then, based on the emotional inclination of your answer, ask me a question related to the social environment of the Austro-Hungarian Empire at the time. You need to always play the designated character, and your answers should align with the given setting.\"\n",
      "}\n",
      "\n",
      "## Output Format:\n",
      "Return constraints as a JSON object in this format:\n",
      "{\n",
      "  \"constraints\": [\n",
      "    \"<atomic constraint 1>\",\n",
      "    \"<atomic constraint 2>\",\n",
      "    ...\n",
      "  ]\n",
      "}\n",
      "\n",
      "Only return the JSON. Do not explain your reasoning or repeat the instruction.\n",
      "\n",
      "\n",
      "generated response:\n",
      " {\n",
      "  \"constraints\": [\n",
      "    \"Use a rigorous and formal language style with an impatient tone.\",\n",
      "    \"Utilize the style of European and American translation language.\",\n",
      "    \"Answer strictly from the perspective of Archduke Ferdinand.\",\n",
      "    \"Ensure the answer aligns with Archduke Ferdinand's character and the historical context.\",\n",
      "    \"Conclude with a question related to the social environment of the Austro-Hungarian Empire.\"\n",
      "  ]\n",
      "}\n"
     ]
    }
   ],
   "source": [
    "ex1 = generate_constraints(complex_bench.iloc[15][\"instruction_en\"], prompt_function=prompt_extract_constraints_v5)"
   ]
  },
  {
   "cell_type": "markdown",
   "id": "46edbe1f",
   "metadata": {},
   "source": [
    "## Trying out GPT-4omini"
   ]
  },
  {
   "cell_type": "code",
   "execution_count": 69,
   "id": "ffa6d598",
   "metadata": {},
   "outputs": [
    {
     "name": "stdout",
     "output_type": "stream",
     "text": [
      "Running in local environment, loaded key from .env\n"
     ]
    }
   ],
   "source": [
    "import pandas as pd\n",
    "import time\n",
    "from openai import OpenAI\n",
    "import os\n",
    "\n",
    "if os.path.exists(\"/content\"):\n",
    "    from google.colab import userdata\n",
    "    openai_api_key = userdata.get('OPENAPI_KEY')\n",
    "else:\n",
    "    from dotenv import load_dotenv\n",
    "    load_dotenv()\n",
    "    openai_api_key = os.getenv(\"OPENAI_API_KEY\")\n",
    "    print(\"Running in local environment, loaded key from .env\")\n",
    "\n",
    "# Check if key was actually found\n",
    "if not openai_api_key:\n",
    "    raise ValueError(\"OPENAI_API_KEY is not set. Please check your environment or .env file.\")\n",
    "\n",
    "# Initialize OpenAI client\n",
    "client = OpenAI(api_key=openai_api_key)\n"
   ]
  },
  {
   "cell_type": "code",
   "execution_count": 70,
   "id": "da6dfe4e",
   "metadata": {},
   "outputs": [],
   "source": [
    "SYSTEM_PROMPT = f\"\"\"\n",
    "You are a helpful assistant. You will be given a programming instruction and the corresponding code.\n",
    "\"\"\""
   ]
  },
  {
   "cell_type": "code",
   "execution_count": 71,
   "id": "e9c8429b",
   "metadata": {},
   "outputs": [],
   "source": [
    "import time\n",
    "def get_response(user_prompt,system_prompt=SYSTEM_PROMPT, max_retries=1):\n",
    "    for attempt in range(max_retries):\n",
    "        try:\n",
    "            response = client.chat.completions.create(\n",
    "            model=\"gpt-4o-mini\",\n",
    "            messages=[\n",
    "                {\"role\": \"system\", \"content\": system_prompt},\n",
    "                {\"role\": \"user\", \"content\": user_prompt}\n",
    "            ],\n",
    "            temperature=0\n",
    "            )\n",
    "            # print(response)\n",
    "            return response.choices[0].message.content\n",
    "        except Exception as e:\n",
    "            print(f\"Error on attempt {attempt+1}: {e}\")\n",
    "            time.sleep(2)\n",
    "    return \"[]\""
   ]
  },
  {
   "cell_type": "code",
   "execution_count": 72,
   "id": "48d56c9e",
   "metadata": {},
   "outputs": [],
   "source": [
    "def generate_constraints_v3(instruction, prompt_function=prompt_extract_constraints_v3):\n",
    "    print(\"Generating constraints for instruction:\\n\", instruction)\n",
    "    prompt = prompt_function(instruction)\n",
    "    response = get_response(prompt)\n",
    "    print(\"\\ngenerated response:\\n\", response)\n",
    "    constraints = extract_json(response, \"constraints\")\n",
    "    return constraints"
   ]
  },
  {
   "cell_type": "code",
   "execution_count": 73,
   "id": "ec9db0c4",
   "metadata": {},
   "outputs": [
    {
     "name": "stdout",
     "output_type": "stream",
     "text": [
      "Generating constraints for instruction:\n",
      " Calculate the distance between two points located in the 3-dimensional space. The points are represented as tuples of three integers. The distance should be rounded to two decimal places. Additionally, the program should also display the angle between the vector components of the resulting distance and the x-axis in degrees, rounded to two decimal places.\n",
      "\n",
      "Example Input:\n",
      "Point 1: (3, 4, 5)\n",
      "Point 2: (2, 6, -1)\n",
      "\n",
      "Example Output:\n",
      "Distance: 2.45\n",
      "Vector components: (1, 2, -6)\n",
      "Angle with x-axis: 32.94 degrees\n"
     ]
    },
    {
     "name": "stdout",
     "output_type": "stream",
     "text": [
      "\n",
      "generated response:\n",
      " {\n",
      "  \"constraints\": [\n",
      "    \"The distance should be rounded to two decimal places.\",\n",
      "    \"The angle should be displayed in degrees.\",\n",
      "    \"The angle should be rounded to two decimal places.\"\n",
      "  ]\n",
      "}\n"
     ]
    }
   ],
   "source": [
    "ex1 = generate_constraints_v3(df.iloc[0][\"instruction\"])"
   ]
  },
  {
   "cell_type": "code",
   "execution_count": 74,
   "id": "3bc97adb",
   "metadata": {},
   "outputs": [
    {
     "name": "stdout",
     "output_type": "stream",
     "text": [
      "Generating constraints for instruction:\n",
      " Pick one category for the following text. The options are - company, educational institution, artist, athlete, office holder, mean of transportation, building, natural place, village, animal, plant, album, film or written work. Michael DenDekker -  Michael G. DenDekker (born July 11 1961) is an assemblyman for the state of New York's 34th district which includes the neighborhoods of Woodside Jackson Heights and East Elmhurst all in the borough/county of Queens.\n",
      "\n",
      "Prompt for constraint extraction:\n",
      " \n",
      "    context: I have instruction for LLM to generate response.\n",
      "    Task: Take the instrcution and extract the constraints from it.\n",
      "    Constraints are the additional requirements apart from the main task that the LLM needs to follow while generating the response.\n",
      "    Rules for completing the task:\n",
      "    1. The constraints should be atomic, meaning each constraint should represent a single requirement or condition.\n",
      "    2. The constraints should be extracted from the instruction and should not include any additional information.\n",
      "    ## Input Format:\n",
      "    {\"instruction\": Pick one category for the following text. The options are - company, educational institution, artist, athlete, office holder, mean of transportation, building, natural place, village, animal, plant, album, film or written work. Michael DenDekker -  Michael G. DenDekker (born July 11 1961) is an assemblyman for the state of New York's 34th district which includes the neighborhoods of Woodside Jackson Heights and East Elmhurst all in the borough/county of Queens.\n",
      "    }\n",
      "    ## Response Format:\n",
      "    You should extract the constraints from the instruction and\n",
      "    return them in a JSON format with the following structure:\n",
      "    { \"constraints\": [<constraint1>, <constraint2>, ...] }\n",
      "    where each <constraint> is a string representing a single atomic constraint.\n",
      "    \n"
     ]
    },
    {
     "name": "stdout",
     "output_type": "stream",
     "text": [
      "\n",
      "generated response:\n",
      " {\n",
      "  \"constraints\": [\n",
      "    \"The response should pick one category for the given text.\",\n",
      "    \"The categories to choose from are: company, educational institution, artist, athlete, office holder, mean of transportation, building, natural place, village, animal, plant, album, film or written work.\",\n",
      "    \"The response should provide information about Michael G. DenDekker.\",\n",
      "    \"The response should include the district he represents in the New York State Assembly.\",\n",
      "    \"The response should list the neighborhoods included in his district.\"\n",
      "  ]\n",
      "}\n"
     ]
    }
   ],
   "source": [
    "ex = generate_constraints(followbench_data.iloc[0][\"instruction\"])"
   ]
  },
  {
   "cell_type": "markdown",
   "id": "f11863d4",
   "metadata": {},
   "source": []
  },
  {
   "cell_type": "code",
   "execution_count": null,
   "id": "df3d7d0c",
   "metadata": {},
   "outputs": [],
   "source": []
  }
 ],
 "metadata": {
  "kernelspec": {
   "display_name": "Python 3 (ipykernel)",
   "language": "python",
   "name": "python3"
  }
 },
 "nbformat": 4,
 "nbformat_minor": 5
}
